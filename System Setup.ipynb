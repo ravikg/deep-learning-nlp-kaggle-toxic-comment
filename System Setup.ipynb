{
 "cells": [
  {
   "cell_type": "markdown",
   "metadata": {},
   "source": [
    "# System Setup"
   ]
  },
  {
   "cell_type": "markdown",
   "metadata": {},
   "source": [
    "1. Download and install Python 3.6\n",
    "\n",
    "2. Install pip using Python 3.6\n",
    "\n",
    "```bash\n",
    "$ curl https://bootstrap.pypa.io/get-pip.py -o get-pip.py\n",
    "$ python3.6 get-pip.py\n",
    "```\n",
    "\n",
    "3. Install virtualenv\n",
    "\n",
    "```bash\n",
    "$ pip --version (it should for python3.6, if not then check pip3.6)\n",
    "$ pip install virtualenv\n",
    "```\n",
    "\n",
    "4. Create an environment for development  \n",
    "In an environment we will have python3.6 as the default python version and same with pip. Also all dependencies will remain confined to this particular environment and it will not conflict with other python setup in the system.\n",
    "\n",
    "```bash\n",
    "$ mkdir virtualenvs-dev\n",
    "$ cd virtualenvs-dev\n",
    "$ virtualenv deep-learn -p python3.6\n",
    "```\n",
    "\n",
    "5. Activate the virtualenv\n",
    "\n",
    "```bash\n",
    "$ cd deep-learn\n",
    "$ source bin/activate\n",
    "(deep-learn)$ \n",
    "```\n",
    "\n",
    "6. Install required packages using pip within the active virtualenv\n",
    "\n",
    "```bash\n",
    "(deep-learn)$ pip install -U keras\n",
    "(deep-learn)$ pip install -U jupyter\n",
    "(deep-learn)$ pip install -U matplotlib\n",
    "(deep-learn)$ pip install -U tensorflow\n",
    "```\n",
    "\n",
    "7. Go to code\n",
    "\n",
    "```bash\n",
    "(deep-learn) $ cd ../../code/deeplearning/kaggle-toxic-comment/\n",
    "```\n",
    "\n",
    "8. Start the jupyter notebook\n",
    "\n",
    "```bash\n",
    "(deep-learn) $ jupyter notebook\n",
    "```\n",
    "You can see the notebooks by going to http://localhost:8888/tree\n"
   ]
  },
  {
   "cell_type": "code",
   "execution_count": null,
   "metadata": {},
   "outputs": [],
   "source": []
  }
 ],
 "metadata": {
  "kernelspec": {
   "display_name": "Python 3",
   "language": "python",
   "name": "python3"
  },
  "language_info": {
   "codemirror_mode": {
    "name": "ipython",
    "version": 3
   },
   "file_extension": ".py",
   "mimetype": "text/x-python",
   "name": "python",
   "nbconvert_exporter": "python",
   "pygments_lexer": "ipython3",
   "version": "3.6.6"
  }
 },
 "nbformat": 4,
 "nbformat_minor": 2
}
