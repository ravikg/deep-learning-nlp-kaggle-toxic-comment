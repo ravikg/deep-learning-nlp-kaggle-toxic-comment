{
 "cells": [
  {
   "cell_type": "markdown",
   "metadata": {},
   "source": [
    "# Models\n",
    "\n",
    "We will cover following models:\n",
    "* Embedding => Class\n",
    "* Embedding => Simple RNN => Class\n",
    "* Embedding => Bi-directional RNN => Class"
   ]
  },
  {
   "cell_type": "markdown",
   "metadata": {},
   "source": [
    "### Load data\n",
    "Load the toxic comment classification challenge dataset\n",
    "and split the dataset into training, validation, testing\n",
    "#### Input text for training\n",
    "1. Get the training data\n",
    "    * read the csv data file using pandas\n",
    "    * tokenize the data\n",
    "    * assign a dimension to each word\n",
    "    * convert into embeddings"
   ]
  },
  {
   "cell_type": "markdown",
   "metadata": {},
   "source": [
    "#### Read CSV"
   ]
  },
  {
   "cell_type": "code",
   "execution_count": 1,
   "metadata": {},
   "outputs": [],
   "source": [
    "import pandas as pd\n",
    "train_csv = './data/toxic-comments/train.csv'\n",
    "train_df = pd.read_csv(train_csv)\n",
    "# ToDo : sort the df based on size of comments (no. of words in comment)"
   ]
  },
  {
   "cell_type": "code",
   "execution_count": 2,
   "metadata": {},
   "outputs": [],
   "source": [
    "rowsums=train_df.iloc[:,2:].sum(axis=1)\n",
    "train_df['clean']=(rowsums==0)\n",
    "train_texts = train_df['comment_text']\n",
    "train_labels = train_df['clean']"
   ]
  },
  {
   "cell_type": "markdown",
   "metadata": {},
   "source": [
    "#### Output labels (class/target) for training\n",
    "2. Get the training label\n",
    "    * read the labels and convert into one-class labels\n",
    "    * We will focus on 2 class problem: toxic and non toxic comments\n",
    "    * We will label all different types of toxic comments into same category of toxic label:\n",
    "        * 0 for toxic comment\n",
    "        * 1 for non-toxic comments\n",
    "    * Later we can explore how to make it multiclass classifier"
   ]
  },
  {
   "cell_type": "markdown",
   "metadata": {},
   "source": [
    "### Tokenization\n",
    "Now we have training data in two separate array: an ordered array consisting of comments (input for the network) and another array consisting of class lables in same order (output of the network).\n",
    "\n",
    "We have to transform this data into network input format and output format. This step is called pre-processing.  \n",
    "Steps of preprocessing:\n",
    "\n",
    "1. Tokenize the text into words\n",
    "2. Assign each word a dimension\n",
    "\n",
    "\n",
    "To accompolish step 1 and 2 we will use inbuilt Tokenizer"
   ]
  },
  {
   "cell_type": "code",
   "execution_count": 3,
   "metadata": {},
   "outputs": [
    {
     "name": "stderr",
     "output_type": "stream",
     "text": [
      "Using TensorFlow backend.\n",
      "/opt/conda/lib/python3.7/site-packages/tensorflow/python/framework/dtypes.py:526: FutureWarning: Passing (type, 1) or '1type' as a synonym of type is deprecated; in a future version of numpy, it will be understood as (type, (1,)) / '(1,)type'.\n",
      "  _np_qint8 = np.dtype([(\"qint8\", np.int8, 1)])\n",
      "/opt/conda/lib/python3.7/site-packages/tensorflow/python/framework/dtypes.py:527: FutureWarning: Passing (type, 1) or '1type' as a synonym of type is deprecated; in a future version of numpy, it will be understood as (type, (1,)) / '(1,)type'.\n",
      "  _np_quint8 = np.dtype([(\"quint8\", np.uint8, 1)])\n",
      "/opt/conda/lib/python3.7/site-packages/tensorflow/python/framework/dtypes.py:528: FutureWarning: Passing (type, 1) or '1type' as a synonym of type is deprecated; in a future version of numpy, it will be understood as (type, (1,)) / '(1,)type'.\n",
      "  _np_qint16 = np.dtype([(\"qint16\", np.int16, 1)])\n",
      "/opt/conda/lib/python3.7/site-packages/tensorflow/python/framework/dtypes.py:529: FutureWarning: Passing (type, 1) or '1type' as a synonym of type is deprecated; in a future version of numpy, it will be understood as (type, (1,)) / '(1,)type'.\n",
      "  _np_quint16 = np.dtype([(\"quint16\", np.uint16, 1)])\n",
      "/opt/conda/lib/python3.7/site-packages/tensorflow/python/framework/dtypes.py:530: FutureWarning: Passing (type, 1) or '1type' as a synonym of type is deprecated; in a future version of numpy, it will be understood as (type, (1,)) / '(1,)type'.\n",
      "  _np_qint32 = np.dtype([(\"qint32\", np.int32, 1)])\n",
      "/opt/conda/lib/python3.7/site-packages/tensorflow/python/framework/dtypes.py:535: FutureWarning: Passing (type, 1) or '1type' as a synonym of type is deprecated; in a future version of numpy, it will be understood as (type, (1,)) / '(1,)type'.\n",
      "  np_resource = np.dtype([(\"resource\", np.ubyte, 1)])\n"
     ]
    },
    {
     "name": "stdout",
     "output_type": "stream",
     "text": [
      "[688, 75, 1, 126, 130, 177, 29, 672, 4511, 1116, 86, 331, 51, 2278, 50, 6864, 15, 60, 2756, 148, 7, 2937, 34, 117, 1221, 2825, 4, 45, 59, 244, 1, 365, 31, 1, 38, 27, 143, 73, 3462, 89, 3085, 4583, 2273, 985]\n",
      "Found 210337 unique tokes.\n"
     ]
    }
   ],
   "source": [
    "from keras.preprocessing.text import Tokenizer\n",
    "max_vocab_size = 10000\n",
    "tokenizer = Tokenizer(num_words=max_vocab_size)\n",
    "tokenizer.fit_on_texts(train_texts)\n",
    "sequences = tokenizer.texts_to_sequences(train_texts)\n",
    "print(sequences[0])\n",
    "\n",
    "word_index = tokenizer.word_index\n",
    "print('Found %s unique tokes.' % len(word_index))"
   ]
  },
  {
   "cell_type": "markdown",
   "metadata": {},
   "source": [
    "### Batching and Preprocessing (padding) for Embedding\n",
    "Now once we have the tokens, we will do following steps to create word embeddings  \n",
    "\n",
    "3. Then use this dimension assignment to define embedding\n",
    "4. Use word embedding to create word vector for a comment\n",
    "\n",
    "\n",
    "We will use a specific type of Layer for this, which is called Embedding Layer. The above generated tokens will go as input to Embedding layer, which will output word embeddings as output to next layer:  \n",
    "\n",
    "   **Input**: 2D tensor of integers, of shape (samples, sequence_length), where each entry is a sequence of integers (output of above code).  \n",
    "   **Output**: 3D floating-point tensor of shape (samples, sequence_length, embedding_dimensionality).  \n",
    "\n",
    "Sequence length can be variable per batch. But in a single batch sequence length will be same for all sequences.  \n",
    "\n",
    "So from data we have to create batches of sequence of similar length and then pad or truncate each sequence to have same sequence length within a particular batch. And we can use each batch as a training input for embedding layer.  \n",
    "\n",
    "For sample case: we take 10k sequence from 160k for training in a single batch. And take max sequence length of 50 words.\n"
   ]
  },
  {
   "cell_type": "code",
   "execution_count": 4,
   "metadata": {},
   "outputs": [],
   "source": [
    "from keras import preprocessing\n",
    "training_sequences = sequences[:10000]\n",
    "training_labels = train_labels[:10000]\n",
    "seq_max_len = 20\n",
    "# training padded sequences\n",
    "train_seq_pad = preprocessing.sequence.pad_sequences(sequences=training_sequences, maxlen=seq_max_len)\n",
    "\n",
    "# testing padded sequences\n",
    "testing_sequences = sequences[10000:11000]\n",
    "testing_labels = train_labels[10000:11000]\n",
    "test_seq_pad = preprocessing.sequence.pad_sequences(sequences=testing_sequences, maxlen=seq_max_len)"
   ]
  },
  {
   "cell_type": "markdown",
   "metadata": {},
   "source": [
    "### Model 1. : Embedding to Class\n",
    "\n",
    "#### Define the model 1\n",
    "Model 1 is made of 4 layers:\n",
    "    - Layer 0 is input layer\n",
    "    - Layer 1 is Embedding layer (Hidden Layer)\n",
    "    - Layer 2 is Flatten Layer (Flattens the embedding layer)\n",
    "    - Layer 3 is Dense Layer (output layer)\n",
    "    \n",
    "**Embedding Layer**: This layer help us create word embedding (discussed in Sequence Representation section). For a single input (a sentence which comes as a seq. of integer) its output is 2D. Each integer(representing a word) gets transformed into a vector; so for a seq. of int. it generates a 2D matrix.\n",
    "\n",
    "**Flatten Layer**: Embedding layer outputs in 2D matrix, to use the output in a Dense layer upstream the output need to transformed into 1D and flatten layer does that."
   ]
  },
  {
   "cell_type": "code",
   "execution_count": 5,
   "metadata": {
    "scrolled": true
   },
   "outputs": [
    {
     "name": "stdout",
     "output_type": "stream",
     "text": [
      "WARNING:tensorflow:From /opt/conda/lib/python3.7/site-packages/tensorflow/python/framework/op_def_library.py:263: colocate_with (from tensorflow.python.framework.ops) is deprecated and will be removed in a future version.\n",
      "Instructions for updating:\n",
      "Colocations handled automatically by placer.\n"
     ]
    }
   ],
   "source": [
    "from keras.models import Sequential\n",
    "from keras.layers import Flatten, Dense\n",
    "from keras.layers.embeddings import Embedding\n",
    "\n",
    "model_1 = Sequential()\n",
    "\n",
    "# no. of unique words in the text data, each word in vocab will be assigned an index (dimension).\n",
    "vocab_size = 10000 \n",
    "\n",
    "# max length of single input data point i.e. count of words present in an input sentence\n",
    "# short seq are padded and long ones are truncated, done above\n",
    "# input of the network\n",
    "seq_max_len = 20 \n",
    "\n",
    "# dimension of word embedding model (output dimension of embedding layer)\n",
    "embedding_dim = 8 \n",
    "# input to layer 0 is data of shape: [batch_size, seq_max_len]\n",
    "# add layer 1 in the network\n",
    "model_1.add(Embedding(vocab_size, embedding_dim, input_length=seq_max_len))\n",
    "# output of layer 1 is data of shape: [batch_size, embedding_dim, seq_max_len]\n",
    "\n",
    "## layer 2: flatten the input of shape [batch_size, embedding_dim, seq_max_len] \n",
    "#          to output of shape [batch_size, embedding_dimension*seq_max_len]\n",
    "model_1.add(Flatten())\n",
    "\n",
    "## layer 3(output layer): Dense layer - all nodes from previous layers are connected to each nodes from this layer\n",
    "#          this has 1 unit/node for classification(toxic/non-toxic)\n",
    "#          and activation for 2 classes: sigmoind\n",
    "model_1.add(Dense(1, activation='sigmoid'))\n",
    "\n",
    "## compile: configure the model for training\n",
    "# optimizer: it is the method use to update the network, \n",
    "#            it is generally variant of stochastic gradient descent (SGD)  \n",
    "#            this method is use iteratively to update the network weights\n",
    "# loss:      it is the (objective) function that will be minimised\n",
    "# metrics:   this is use to measure the performance of network\n",
    "model_1.compile(optimizer='rmsprop', loss='binary_crossentropy', metrics=['acc'])"
   ]
  },
  {
   "cell_type": "code",
   "execution_count": 6,
   "metadata": {},
   "outputs": [
    {
     "name": "stdout",
     "output_type": "stream",
     "text": [
      "Model: \"sequential_1\"\n",
      "_________________________________________________________________\n",
      "Layer (type)                 Output Shape              Param #   \n",
      "=================================================================\n",
      "embedding_1 (Embedding)      (None, 20, 8)             80000     \n",
      "_________________________________________________________________\n",
      "flatten_1 (Flatten)          (None, 160)               0         \n",
      "_________________________________________________________________\n",
      "dense_1 (Dense)              (None, 1)                 161       \n",
      "=================================================================\n",
      "Total params: 80,161\n",
      "Trainable params: 80,161\n",
      "Non-trainable params: 0\n",
      "_________________________________________________________________\n"
     ]
    }
   ],
   "source": [
    "# prints the summary of the model\n",
    "model_1.summary()"
   ]
  },
  {
   "cell_type": "code",
   "execution_count": 7,
   "metadata": {},
   "outputs": [
    {
     "name": "stdout",
     "output_type": "stream",
     "text": [
      "WARNING:tensorflow:From /opt/conda/lib/python3.7/site-packages/tensorflow/python/ops/math_ops.py:3066: to_int32 (from tensorflow.python.ops.math_ops) is deprecated and will be removed in a future version.\n",
      "Instructions for updating:\n",
      "Use tf.cast instead.\n",
      "Train on 8000 samples, validate on 2000 samples\n",
      "Epoch 1/10\n",
      "8000/8000 [==============================] - 3s 330us/step - loss: 0.4641 - acc: 0.8820 - val_loss: 0.2928 - val_acc: 0.9095\n",
      "Epoch 2/10\n",
      "8000/8000 [==============================] - 1s 182us/step - loss: 0.2863 - acc: 0.8947 - val_loss: 0.2523 - val_acc: 0.9115\n",
      "Epoch 3/10\n",
      "8000/8000 [==============================] - 2s 212us/step - loss: 0.2444 - acc: 0.9007 - val_loss: 0.2298 - val_acc: 0.9175\n",
      "Epoch 4/10\n",
      "8000/8000 [==============================] - 2s 208us/step - loss: 0.2117 - acc: 0.9135 - val_loss: 0.2165 - val_acc: 0.9245\n",
      "Epoch 5/10\n",
      "8000/8000 [==============================] - 2s 261us/step - loss: 0.1905 - acc: 0.9236 - val_loss: 0.2104 - val_acc: 0.9290\n",
      "Epoch 6/10\n",
      "8000/8000 [==============================] - 3s 348us/step - loss: 0.1765 - acc: 0.9313 - val_loss: 0.2082 - val_acc: 0.9325\n",
      "Epoch 7/10\n",
      "8000/8000 [==============================] - 2s 240us/step - loss: 0.1660 - acc: 0.9348 - val_loss: 0.2075 - val_acc: 0.9330\n",
      "Epoch 8/10\n",
      "8000/8000 [==============================] - 2s 214us/step - loss: 0.1566 - acc: 0.9410 - val_loss: 0.2081 - val_acc: 0.9335\n",
      "Epoch 9/10\n",
      "8000/8000 [==============================] - 1s 182us/step - loss: 0.1489 - acc: 0.9430 - val_loss: 0.2079 - val_acc: 0.9340\n",
      "Epoch 10/10\n",
      "8000/8000 [==============================] - 2s 192us/step - loss: 0.1410 - acc: 0.9465 - val_loss: 0.2077 - val_acc: 0.9340\n"
     ]
    }
   ],
   "source": [
    "# fit: trains the network for a fixed no. of epoch\n",
    "history_1 = model_1.fit(train_seq_pad, training_labels, epochs=10, batch_size=32, validation_split=0.2)"
   ]
  },
  {
   "cell_type": "markdown",
   "metadata": {},
   "source": [
    "<img src=\"img/m11.png\" alt=\"Visual representation of one hot encodding and word embedding\" style=\"width: 600px;\"/>  \n",
    "\n",
    "\n",
    "Created using [NN SVG Tool](http://alexlenail.me/NN-SVG/index.html)  \n",
    "\n",
    "For above diagram, following configs are used(1/4th of the ones used in code):\n",
    "1. seq_max_len = 5\n",
    "2. embedding_dim = 2\n",
    "3. flatten layer = 5x2 = 10\n",
    "4. desnse output layer = 1\n",
    "\n",
    "\n"
   ]
  },
  {
   "cell_type": "markdown",
   "metadata": {},
   "source": [
    "#### Test the model 1\n",
    "\n",
    "We will take a small test data from the unused training data to test our basic model.  \n",
    "\n",
    "`model_1.evaluate` method is use to evaluate the model. For evaluation we give input the test data in the same format as of training data together with label data for the test data to compare with.\n",
    "\n",
    "Ref: Listing 6.7 Deep Learning with Python book  "
   ]
  },
  {
   "cell_type": "code",
   "execution_count": 8,
   "metadata": {},
   "outputs": [
    {
     "name": "stdout",
     "output_type": "stream",
     "text": [
      "['loss', 'acc']\n",
      "1000/1000 [==============================] - 0s 166us/step\n"
     ]
    },
    {
     "data": {
      "text/plain": [
       "[0.2028051826953888, 0.925]"
      ]
     },
     "execution_count": 8,
     "metadata": {},
     "output_type": "execute_result"
    }
   ],
   "source": [
    "print(model_1.metrics_names)\n",
    "model_1.evaluate(x=test_seq_pad, y=testing_labels)"
   ]
  },
  {
   "cell_type": "markdown",
   "metadata": {},
   "source": [
    "### Model 2: Embedding => RNN => Output\n",
    "In this model 2 we will extend the Model 1 by adding an RNN layer in between the Embedding layer and output layer.\n",
    "\n",
    "#### Define the model 2\n",
    "Model 2 is made of 4 layers:\n",
    "    - Layer 0 is input layer\n",
    "    - Layer 1 is Embedding layer\n",
    "    - Layer 2 is RNN layer\n",
    "    - Layer 3 is Dense Layer (output/classification layer) \n",
    "    \n",
    "    \n",
    "**RNN : Recurrent Neural Network**\n",
    "\n",
    "\n",
    "<img src=\"img/rnn.png\" alt=\"Recurrent Neural Network\" style=\"width: 300px;\"/>  \n",
    "\n",
    "Source: [Deep Learning with Python, Book by François Chollet](https://www.manning.com/books/deep-learning-with-python)\n",
    "\n",
    "RNN is a neural network has following properties:\n",
    " - processes each element(word) of a sequence(sentence) one by one \n",
    " - and output of intermediate element is fed back together with the next element.\n",
    " - The state of RNN is reset between two indepeent sequence\n",
    " \n",
    "Input for Dense layer is only the output at the end of the sequence."
   ]
  },
  {
   "cell_type": "markdown",
   "metadata": {},
   "source": [
    "![Unrolled RNN](img/RNN-unrolled.png)  \n",
    "\n",
    "\n",
    "Source: http://colah.github.io/posts/2015-08-Understanding-LSTMs/"
   ]
  },
  {
   "cell_type": "markdown",
   "metadata": {},
   "source": [
    "In this model, we don't need Flatten layer as by default SimpleRNN layer output only the last element from the processed output (h_t)"
   ]
  },
  {
   "cell_type": "code",
   "execution_count": 9,
   "metadata": {},
   "outputs": [],
   "source": [
    "from keras.models import Sequential\n",
    "from keras.layers import Dense, Embedding, SimpleRNN\n",
    "\n",
    "# model configurations\n",
    "vocab_size = 10000\n",
    "seq_max_len = 20 # this can be removed as it is not required for next layer which is RNN\n",
    "embedding_dim = 16\n",
    "\n",
    "# model definition\n",
    "model_2 = Sequential()\n",
    "model_2.add(Embedding(vocab_size, embedding_dim, input_length=seq_max_len))\n",
    "model_2.add(SimpleRNN(32))\n",
    "model_2.add(Dense(1, activation='sigmoid'))\n",
    "model_2.compile(optimizer='rmsprop', loss='binary_crossentropy', metrics=['acc'])"
   ]
  },
  {
   "cell_type": "code",
   "execution_count": 10,
   "metadata": {},
   "outputs": [
    {
     "name": "stdout",
     "output_type": "stream",
     "text": [
      "Model: \"sequential_2\"\n",
      "_________________________________________________________________\n",
      "Layer (type)                 Output Shape              Param #   \n",
      "=================================================================\n",
      "embedding_2 (Embedding)      (None, 20, 16)            160000    \n",
      "_________________________________________________________________\n",
      "simple_rnn_1 (SimpleRNN)     (None, 32)                1568      \n",
      "_________________________________________________________________\n",
      "dense_2 (Dense)              (None, 1)                 33        \n",
      "=================================================================\n",
      "Total params: 161,601\n",
      "Trainable params: 161,601\n",
      "Non-trainable params: 0\n",
      "_________________________________________________________________\n"
     ]
    }
   ],
   "source": [
    "model_2.summary()"
   ]
  },
  {
   "cell_type": "markdown",
   "metadata": {},
   "source": [
    "#### Train the model 2"
   ]
  },
  {
   "cell_type": "code",
   "execution_count": 11,
   "metadata": {},
   "outputs": [
    {
     "name": "stdout",
     "output_type": "stream",
     "text": [
      "Train on 8000 samples, validate on 2000 samples\n",
      "Epoch 1/10\n",
      "8000/8000 [==============================] - 6s 734us/step - loss: 0.3178 - acc: 0.8926 - val_loss: 0.2345 - val_acc: 0.9220\n",
      "Epoch 2/10\n",
      "8000/8000 [==============================] - 5s 612us/step - loss: 0.2090 - acc: 0.9241 - val_loss: 0.2213 - val_acc: 0.9260\n",
      "Epoch 3/10\n",
      "8000/8000 [==============================] - 5s 616us/step - loss: 0.1505 - acc: 0.9464 - val_loss: 0.2052 - val_acc: 0.9335\n",
      "Epoch 4/10\n",
      "8000/8000 [==============================] - 6s 698us/step - loss: 0.1054 - acc: 0.9629 - val_loss: 0.2180 - val_acc: 0.9220\n",
      "Epoch 5/10\n",
      "8000/8000 [==============================] - 5s 636us/step - loss: 0.0684 - acc: 0.9756 - val_loss: 0.2500 - val_acc: 0.9215\n",
      "Epoch 6/10\n",
      "8000/8000 [==============================] - 5s 608us/step - loss: 0.0410 - acc: 0.9865 - val_loss: 0.3319 - val_acc: 0.8815\n",
      "Epoch 7/10\n",
      "8000/8000 [==============================] - 5s 609us/step - loss: 0.0257 - acc: 0.9914 - val_loss: 0.3469 - val_acc: 0.8860\n",
      "Epoch 8/10\n",
      "8000/8000 [==============================] - 5s 612us/step - loss: 0.0156 - acc: 0.9954 - val_loss: 0.4226 - val_acc: 0.8735\n",
      "Epoch 9/10\n",
      "8000/8000 [==============================] - 5s 615us/step - loss: 0.0101 - acc: 0.9967 - val_loss: 0.4255 - val_acc: 0.8915\n",
      "Epoch 10/10\n",
      "8000/8000 [==============================] - 5s 620us/step - loss: 0.0060 - acc: 0.9985 - val_loss: 0.5675 - val_acc: 0.8515\n"
     ]
    }
   ],
   "source": [
    "history_2 = model_2.fit(train_seq_pad, training_labels, epochs=10, batch_size=32, validation_split=0.2)"
   ]
  },
  {
   "cell_type": "markdown",
   "metadata": {},
   "source": [
    "#### Test the model 2"
   ]
  },
  {
   "cell_type": "code",
   "execution_count": 12,
   "metadata": {},
   "outputs": [
    {
     "name": "stdout",
     "output_type": "stream",
     "text": [
      "['loss', 'acc']\n",
      "1000/1000 [==============================] - 0s 243us/step\n"
     ]
    },
    {
     "data": {
      "text/plain": [
       "[0.5610463897287845, 0.854]"
      ]
     },
     "execution_count": 12,
     "metadata": {},
     "output_type": "execute_result"
    }
   ],
   "source": [
    "print(model_2.metrics_names)\n",
    "model_2.evaluate(x=test_seq_pad, y=testing_labels)"
   ]
  },
  {
   "cell_type": "markdown",
   "metadata": {},
   "source": [
    "We see that above model didn't have good accuracy compared to much simpler model. We didn't use most of the data, training data is very less and also value of seq_len was less for training data and more for testing data.\n",
    "\n",
    "\n",
    "We can extend the model by adding more RNN layers in between and for the above we didn't use the out of intermediate output of RNN layer.\n",
    "\n",
    "#### Extended model 2\n",
    "Extended model 2 is made of 6 layers:\n",
    "    - Layer 0 is input layer\n",
    "    - Layer 1 is Embedding layer\n",
    "    - Layer 2 is RNN layer (return full sequence)\n",
    "    - Layer 3 is RNN layer (return full sequence)\n",
    "    - Layer 4 is RNN layer (return last output)\n",
    "    - Layer 5 is Dense Layer (output/classification layer) \n",
    "    \n",
    "In this setup we have to pass full processed output for all but last RNN layer.  \n",
    "For above model 1, it is many to one  \n",
    "For model 2, it is many to many from below diagram\n"
   ]
  },
  {
   "cell_type": "markdown",
   "metadata": {},
   "source": [
    "![RNN types](img/rnn.jpeg)  \n",
    "\n",
    "\n",
    "Source: http://karpathy.github.io/2015/05/21/rnn-effectiveness/"
   ]
  },
  {
   "cell_type": "code",
   "execution_count": 13,
   "metadata": {},
   "outputs": [],
   "source": [
    "model_2_ext = Sequential()\n",
    "model_2_ext.add(Embedding(vocab_size, embedding_dim))\n",
    "# for intermediate layers, we want to return output of each cell of RNN, \n",
    "# so that it forms a seq. which is processed by next RNN layer\n",
    "model_2_ext.add(SimpleRNN(32, return_sequences=True))\n",
    "model_2_ext.add(SimpleRNN(64, return_sequences=True))\n",
    "# in final RNN layer we will not return the sequence but only the final output,\n",
    "# which is use in the next non RNN layer e.g. Dense layer in this case\n",
    "model_2_ext.add(SimpleRNN(32))\n",
    "model_2_ext.add(Dense(1, activation='sigmoid'))\n",
    "model_2_ext.compile(optimizer='rmsprop', loss='binary_crossentropy', metrics=['acc'])"
   ]
  },
  {
   "cell_type": "code",
   "execution_count": 14,
   "metadata": {},
   "outputs": [
    {
     "name": "stdout",
     "output_type": "stream",
     "text": [
      "Model: \"sequential_3\"\n",
      "_________________________________________________________________\n",
      "Layer (type)                 Output Shape              Param #   \n",
      "=================================================================\n",
      "embedding_3 (Embedding)      (None, None, 16)          160000    \n",
      "_________________________________________________________________\n",
      "simple_rnn_2 (SimpleRNN)     (None, None, 32)          1568      \n",
      "_________________________________________________________________\n",
      "simple_rnn_3 (SimpleRNN)     (None, None, 64)          6208      \n",
      "_________________________________________________________________\n",
      "simple_rnn_4 (SimpleRNN)     (None, 32)                3104      \n",
      "_________________________________________________________________\n",
      "dense_3 (Dense)              (None, 1)                 33        \n",
      "=================================================================\n",
      "Total params: 170,913\n",
      "Trainable params: 170,913\n",
      "Non-trainable params: 0\n",
      "_________________________________________________________________\n"
     ]
    }
   ],
   "source": [
    "model_2_ext.summary()"
   ]
  },
  {
   "cell_type": "markdown",
   "metadata": {},
   "source": [
    "#### Train the ext. model 2"
   ]
  },
  {
   "cell_type": "code",
   "execution_count": 15,
   "metadata": {},
   "outputs": [
    {
     "name": "stdout",
     "output_type": "stream",
     "text": [
      "Train on 8000 samples, validate on 2000 samples\n",
      "Epoch 1/10\n",
      "8000/8000 [==============================] - 10s 1ms/step - loss: 0.3003 - acc: 0.8979 - val_loss: 0.2344 - val_acc: 0.9325\n",
      "Epoch 2/10\n",
      "8000/8000 [==============================] - 9s 1ms/step - loss: 0.1881 - acc: 0.9316 - val_loss: 0.2164 - val_acc: 0.9305\n",
      "Epoch 3/10\n",
      "8000/8000 [==============================] - 9s 1ms/step - loss: 0.1349 - acc: 0.9531 - val_loss: 0.2142 - val_acc: 0.9320\n",
      "Epoch 4/10\n",
      "8000/8000 [==============================] - 9s 1ms/step - loss: 0.0887 - acc: 0.9689 - val_loss: 0.2447 - val_acc: 0.9240\n",
      "Epoch 5/10\n",
      "8000/8000 [==============================] - 9s 1ms/step - loss: 0.0473 - acc: 0.9842 - val_loss: 0.2765 - val_acc: 0.9235\n",
      "Epoch 6/10\n",
      "8000/8000 [==============================] - 9s 1ms/step - loss: 0.0254 - acc: 0.9920 - val_loss: 0.5045 - val_acc: 0.8555\n",
      "Epoch 7/10\n",
      "8000/8000 [==============================] - 9s 1ms/step - loss: 0.0120 - acc: 0.9965 - val_loss: 0.4527 - val_acc: 0.8920\n",
      "Epoch 8/10\n",
      "8000/8000 [==============================] - 8s 1ms/step - loss: 0.0087 - acc: 0.9975 - val_loss: 0.4565 - val_acc: 0.9145\n",
      "Epoch 9/10\n",
      "8000/8000 [==============================] - 9s 1ms/step - loss: 0.0053 - acc: 0.9980 - val_loss: 0.5508 - val_acc: 0.8935\n",
      "Epoch 10/10\n",
      "8000/8000 [==============================] - 9s 1ms/step - loss: 0.0018 - acc: 0.9995 - val_loss: 1.6971 - val_acc: 0.7530\n"
     ]
    }
   ],
   "source": [
    "history_2_ext = model_2_ext.fit(train_seq_pad, training_labels, epochs=10, batch_size=32, validation_split=0.2)"
   ]
  },
  {
   "cell_type": "markdown",
   "metadata": {},
   "source": [
    "#### Test the ext. model 2"
   ]
  },
  {
   "cell_type": "code",
   "execution_count": 16,
   "metadata": {},
   "outputs": [
    {
     "name": "stdout",
     "output_type": "stream",
     "text": [
      "['loss', 'acc']\n",
      "1000/1000 [==============================] - 0s 350us/step\n"
     ]
    },
    {
     "data": {
      "text/plain": [
       "[1.6925468402430415, 0.755]"
      ]
     },
     "execution_count": 16,
     "metadata": {},
     "output_type": "execute_result"
    }
   ],
   "source": [
    "print(model_2_ext.metrics_names)\n",
    "model_2_ext.evaluate(x=test_seq_pad, y=testing_labels)"
   ]
  },
  {
   "cell_type": "markdown",
   "metadata": {},
   "source": [
    "### Model 3: Embedding => Bidirectional RNN => Output\n",
    "In this model 3 we will extend the Model 2 by wrapping the RNN layer with a Bidirectional wrapper.\n",
    "\n",
    "#### Define the model 3\n",
    "Model 3 is made of 4 layers:\n",
    "    - Layer 0 is input layer\n",
    "    - Layer 1 is Embedding layer\n",
    "    - Layer 2 is Bidirectional RNN layer (return last output)\n",
    "    - Layer 3 is Dense Layer (output/classification layer)  \n",
    "\n",
    "**Bidirectional Layer**  \n",
    "Bidirectional layer of two hidden layers with opposite direction for input, it processes the sequence in both order backward and forward and generates a combined output.  \n",
    "Ref for more details: \n",
    " 1. https://en.wikipedia.org/wiki/Bidirectional_recurrent_neural_networks\n",
    " 2. https://d2l.ai/chapter_recurrent-neural-networks/bi-rnn.html\n"
   ]
  },
  {
   "cell_type": "markdown",
   "metadata": {},
   "source": [
    "![Bidirectional RNN](img/bidirectional-rnn.png)  \n",
    "\n",
    "\n",
    "Source: https://www.wandb.com/classes/intro/class-9-notes"
   ]
  },
  {
   "cell_type": "code",
   "execution_count": 19,
   "metadata": {},
   "outputs": [],
   "source": [
    "from keras.models import Sequential\n",
    "from keras.layers import Dense, Embedding, SimpleRNN\n",
    "from keras.layers.wrappers import Bidirectional\n",
    "\n",
    "# model configurations\n",
    "vocab_size = 10000\n",
    "seq_max_len = 20 # this can be removed as it is not required for next layer which is RNN\n",
    "embedding_dim = 16\n",
    "\n",
    "# model definition\n",
    "model_3 = Sequential()\n",
    "model_3.add(Embedding(vocab_size, embedding_dim, input_length=seq_max_len))\n",
    "# [1] This will create two copies of the hidden layer, \n",
    "# one fit in the input sequences as-is and one on a reversed copy of the input sequence. \n",
    "# By default, the output values from these LSTMs will be concatenated.\n",
    "model_3.add(Bidirectional(SimpleRNN(32)))\n",
    "model_3.add(Dense(1, activation='sigmoid'))\n",
    "model_3.compile(optimizer='rmsprop', loss='binary_crossentropy', metrics=['acc'])"
   ]
  },
  {
   "cell_type": "code",
   "execution_count": 20,
   "metadata": {},
   "outputs": [
    {
     "name": "stdout",
     "output_type": "stream",
     "text": [
      "Model: \"sequential_5\"\n",
      "_________________________________________________________________\n",
      "Layer (type)                 Output Shape              Param #   \n",
      "=================================================================\n",
      "embedding_5 (Embedding)      (None, 20, 16)            160000    \n",
      "_________________________________________________________________\n",
      "bidirectional_2 (Bidirection (None, 64)                3136      \n",
      "_________________________________________________________________\n",
      "dense_5 (Dense)              (None, 1)                 65        \n",
      "=================================================================\n",
      "Total params: 163,201\n",
      "Trainable params: 163,201\n",
      "Non-trainable params: 0\n",
      "_________________________________________________________________\n"
     ]
    }
   ],
   "source": [
    "model_3.summary()"
   ]
  },
  {
   "cell_type": "markdown",
   "metadata": {},
   "source": [
    "#### Train model 3"
   ]
  },
  {
   "cell_type": "code",
   "execution_count": 21,
   "metadata": {},
   "outputs": [
    {
     "name": "stdout",
     "output_type": "stream",
     "text": [
      "Train on 8000 samples, validate on 2000 samples\n",
      "Epoch 1/10\n",
      "8000/8000 [==============================] - 6s 703us/step - loss: 0.2785 - acc: 0.9074 - val_loss: 0.2074 - val_acc: 0.9330\n",
      "Epoch 2/10\n",
      "8000/8000 [==============================] - 4s 557us/step - loss: 0.1761 - acc: 0.9395 - val_loss: 0.2036 - val_acc: 0.9355\n",
      "Epoch 3/10\n",
      "8000/8000 [==============================] - 5s 581us/step - loss: 0.1402 - acc: 0.9522 - val_loss: 0.2087 - val_acc: 0.9345\n",
      "Epoch 4/10\n",
      "8000/8000 [==============================] - 5s 564us/step - loss: 0.1065 - acc: 0.9629 - val_loss: 0.2227 - val_acc: 0.9295\n",
      "Epoch 5/10\n",
      "8000/8000 [==============================] - 4s 552us/step - loss: 0.0768 - acc: 0.9743 - val_loss: 0.2438 - val_acc: 0.9330\n",
      "Epoch 6/10\n",
      "8000/8000 [==============================] - 5s 636us/step - loss: 0.0513 - acc: 0.9830 - val_loss: 0.2674 - val_acc: 0.9085\n",
      "Epoch 7/10\n",
      "8000/8000 [==============================] - 4s 560us/step - loss: 0.0291 - acc: 0.9908 - val_loss: 0.2955 - val_acc: 0.9165\n",
      "Epoch 8/10\n",
      "8000/8000 [==============================] - 5s 608us/step - loss: 0.0182 - acc: 0.9944 - val_loss: 0.3566 - val_acc: 0.9000\n",
      "Epoch 9/10\n",
      "8000/8000 [==============================] - 5s 569us/step - loss: 0.0124 - acc: 0.9964 - val_loss: 0.4893 - val_acc: 0.8550\n",
      "Epoch 10/10\n",
      "8000/8000 [==============================] - 5s 583us/step - loss: 0.0085 - acc: 0.9974 - val_loss: 0.3861 - val_acc: 0.9055\n"
     ]
    }
   ],
   "source": [
    "history_3 = model_3.fit(train_seq_pad, training_labels, epochs=10, batch_size=32, validation_split=0.2)"
   ]
  },
  {
   "cell_type": "markdown",
   "metadata": {},
   "source": [
    "#### Testing model 3"
   ]
  },
  {
   "cell_type": "code",
   "execution_count": 22,
   "metadata": {
    "scrolled": true
   },
   "outputs": [
    {
     "name": "stdout",
     "output_type": "stream",
     "text": [
      "['loss', 'acc']\n",
      "1000/1000 [==============================] - 0s 194us/step\n"
     ]
    },
    {
     "data": {
      "text/plain": [
       "[0.38808986937999723, 0.9]"
      ]
     },
     "execution_count": 22,
     "metadata": {},
     "output_type": "execute_result"
    }
   ],
   "source": [
    "print(model_3.metrics_names)\n",
    "model_3.evaluate(x=test_seq_pad, y=testing_labels)"
   ]
  },
  {
   "cell_type": "markdown",
   "metadata": {},
   "source": [
    "Similarly like model 2, model 3 can be extended by adding more bidirectional layers in between.  \n",
    "\n",
    "#### Extended model 3\n",
    "Extended model 3 is made of 6 layers:\n",
    "    - Layer 0 is input layer\n",
    "    - Layer 1 is Embedding layer\n",
    "    - Layer 2 is Bidirectional RNN layer (return full sequence)\n",
    "    - Layer 3 is Bidirectional RNN layer (return full sequence)\n",
    "    - Layer 4 is Bidirectional RNN layer (return last output)\n",
    "    - Layer 5 is Dense Layer (output/classification layer) \n"
   ]
  },
  {
   "cell_type": "code",
   "execution_count": 23,
   "metadata": {},
   "outputs": [],
   "source": [
    "from keras.models import Sequential\n",
    "from keras.layers import Dense, Embedding, SimpleRNN\n",
    "from keras.layers.wrappers import Bidirectional\n",
    "\n",
    "# model configurations\n",
    "vocab_size = 10000\n",
    "seq_max_len = 20 # this can be removed as it is not required for next layer which is RNN\n",
    "embedding_dim = 16"
   ]
  },
  {
   "cell_type": "code",
   "execution_count": 24,
   "metadata": {},
   "outputs": [
    {
     "name": "stdout",
     "output_type": "stream",
     "text": [
      "Model: \"sequential_6\"\n",
      "_________________________________________________________________\n",
      "Layer (type)                 Output Shape              Param #   \n",
      "=================================================================\n",
      "embedding_6 (Embedding)      (None, 20, 16)            160000    \n",
      "_________________________________________________________________\n",
      "bidirectional_3 (Bidirection (None, 20, 64)            3136      \n",
      "_________________________________________________________________\n",
      "bidirectional_4 (Bidirection (None, 20, 128)           16512     \n",
      "_________________________________________________________________\n",
      "bidirectional_5 (Bidirection (None, 64)                10304     \n",
      "_________________________________________________________________\n",
      "dense_6 (Dense)              (None, 1)                 65        \n",
      "=================================================================\n",
      "Total params: 190,017\n",
      "Trainable params: 190,017\n",
      "Non-trainable params: 0\n",
      "_________________________________________________________________\n"
     ]
    }
   ],
   "source": [
    "# model definition\n",
    "model_3_ext = Sequential()\n",
    "model_3_ext.add(Embedding(vocab_size, embedding_dim, input_length=seq_max_len))\n",
    "model_3_ext.add(Bidirectional(SimpleRNN(32, return_sequences=True)))\n",
    "model_3_ext.add(Bidirectional(SimpleRNN(64, return_sequences=True)))\n",
    "model_3_ext.add(Bidirectional(SimpleRNN(32)))\n",
    "model_3_ext.add(Dense(1, activation='sigmoid'))\n",
    "model_3_ext.compile(optimizer='rmsprop', loss='binary_crossentropy', metrics=['acc'])"
   ]
  },
  {
   "cell_type": "code",
   "execution_count": 25,
   "metadata": {},
   "outputs": [
    {
     "name": "stdout",
     "output_type": "stream",
     "text": [
      "Model: \"sequential_6\"\n",
      "_________________________________________________________________\n",
      "Layer (type)                 Output Shape              Param #   \n",
      "=================================================================\n",
      "embedding_6 (Embedding)      (None, 20, 16)            160000    \n",
      "_________________________________________________________________\n",
      "bidirectional_3 (Bidirection (None, 20, 64)            3136      \n",
      "_________________________________________________________________\n",
      "bidirectional_4 (Bidirection (None, 20, 128)           16512     \n",
      "_________________________________________________________________\n",
      "bidirectional_5 (Bidirection (None, 64)                10304     \n",
      "_________________________________________________________________\n",
      "dense_6 (Dense)              (None, 1)                 65        \n",
      "=================================================================\n",
      "Total params: 190,017\n",
      "Trainable params: 190,017\n",
      "Non-trainable params: 0\n",
      "_________________________________________________________________\n"
     ]
    }
   ],
   "source": [
    "model_3_ext.summary()"
   ]
  },
  {
   "cell_type": "markdown",
   "metadata": {},
   "source": [
    "#### Train ext. model 3"
   ]
  },
  {
   "cell_type": "code",
   "execution_count": 26,
   "metadata": {},
   "outputs": [
    {
     "name": "stdout",
     "output_type": "stream",
     "text": [
      "Train on 8000 samples, validate on 2000 samples\n",
      "Epoch 1/10\n",
      "8000/8000 [==============================] - 13s 2ms/step - loss: 0.2853 - acc: 0.9021 - val_loss: 0.1997 - val_acc: 0.9350\n",
      "Epoch 2/10\n",
      "8000/8000 [==============================] - 11s 1ms/step - loss: 0.1808 - acc: 0.9383 - val_loss: 0.2081 - val_acc: 0.9335\n",
      "Epoch 3/10\n",
      "8000/8000 [==============================] - 12s 1ms/step - loss: 0.1289 - acc: 0.9545 - val_loss: 0.2102 - val_acc: 0.9380\n",
      "Epoch 4/10\n",
      "8000/8000 [==============================] - 11s 1ms/step - loss: 0.0841 - acc: 0.9706 - val_loss: 0.2265 - val_acc: 0.9380\n",
      "Epoch 5/10\n",
      "8000/8000 [==============================] - 11s 1ms/step - loss: 0.0469 - acc: 0.9844 - val_loss: 0.2798 - val_acc: 0.9205\n",
      "Epoch 6/10\n",
      "8000/8000 [==============================] - 11s 1ms/step - loss: 0.0250 - acc: 0.9918 - val_loss: 0.3522 - val_acc: 0.9090\n",
      "Epoch 7/10\n",
      "8000/8000 [==============================] - 11s 1ms/step - loss: 0.0122 - acc: 0.9966 - val_loss: 0.4076 - val_acc: 0.9125\n",
      "Epoch 8/10\n",
      "8000/8000 [==============================] - 11s 1ms/step - loss: 0.0080 - acc: 0.9978 - val_loss: 0.4636 - val_acc: 0.9020\n",
      "Epoch 9/10\n",
      "8000/8000 [==============================] - 11s 1ms/step - loss: 0.0044 - acc: 0.9988 - val_loss: 0.7195 - val_acc: 0.8720\n",
      "Epoch 10/10\n",
      "8000/8000 [==============================] - 12s 1ms/step - loss: 0.0020 - acc: 0.9996 - val_loss: 0.6840 - val_acc: 0.8930\n"
     ]
    }
   ],
   "source": [
    "history_3_ext = model_3_ext.fit(train_seq_pad, training_labels, epochs=10, batch_size=32, validation_split=0.2)"
   ]
  },
  {
   "cell_type": "markdown",
   "metadata": {},
   "source": [
    "#### Test ext. model 3"
   ]
  },
  {
   "cell_type": "code",
   "execution_count": 27,
   "metadata": {},
   "outputs": [
    {
     "name": "stdout",
     "output_type": "stream",
     "text": [
      "['loss', 'acc']\n",
      "1000/1000 [==============================] - 1s 627us/step\n"
     ]
    },
    {
     "data": {
      "text/plain": [
       "[0.6692711886763573, 0.895]"
      ]
     },
     "execution_count": 27,
     "metadata": {},
     "output_type": "execute_result"
    }
   ],
   "source": [
    "print(model_3_ext.metrics_names)\n",
    "model_3_ext.evaluate(x=test_seq_pad, y=testing_labels)"
   ]
  },
  {
   "cell_type": "markdown",
   "metadata": {},
   "source": [
    "##### Ref.:\n",
    "1. https://machinelearningmastery.com/develop-bidirectional-lstm-sequence-classification-python-keras/\n"
   ]
  },
  {
   "cell_type": "code",
   "execution_count": null,
   "metadata": {},
   "outputs": [],
   "source": []
  }
 ],
 "metadata": {
  "kernelspec": {
   "display_name": "Python 3",
   "language": "python",
   "name": "python3"
  },
  "language_info": {
   "codemirror_mode": {
    "name": "ipython",
    "version": 3
   },
   "file_extension": ".py",
   "mimetype": "text/x-python",
   "name": "python",
   "nbconvert_exporter": "python",
   "pygments_lexer": "ipython3",
   "version": "3.6.8"
  }
 },
 "nbformat": 4,
 "nbformat_minor": 2
}
