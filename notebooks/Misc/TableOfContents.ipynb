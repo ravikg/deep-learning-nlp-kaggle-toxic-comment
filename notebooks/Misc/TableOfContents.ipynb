{
 "cells": [
  {
   "cell_type": "markdown",
   "metadata": {},
   "source": [
    "# Table of Contents"
   ]
  },
  {
   "cell_type": "markdown",
   "metadata": {},
   "source": [
    "1. Use Case\n",
    "    1. Sequence classification\n",
    "        1. Sentiment Classificaiton\n",
    "        2. Name gender classification\n",
    "    2. Sequence to sequence (Seq2Seq)\n",
    "        1. Translation\n",
    "        2. Gmail smart reply\n",
    "        3. Dialog\n",
    "    3. Sequence generator\n",
    "        1. Name, Story, poem, dialog generator\n",
    "        2. Image captioning\n",
    "        \n",
    "2. System Setup\n",
    "    1. Python 3\n",
    "    2. Keras\n",
    "    3. Jupyter\n",
    "    4. Libraries: matplotlib, scikit, numpy\n",
    "    \n",
    "3. Dataset to play\n",
    "    1. Name dataset\n",
    "        1. translation dataset\n",
    "        2. wikipedia comment dataset\n",
    "        3. Ubuntu dialog corpora\n",
    "\n",
    "4. Sequence Representation \n",
    "    1. Tokenization\n",
    "    2. One Hot Encoding\n",
    "    3. Word Embeddings\n",
    "        * Word2vec\n",
    "        * GloVe\n",
    "        \n",
    "5. Data Analysis\n",
    "    1. General Analysis\n",
    "    2. Tokenization\n",
    "    3. Split training data into training and validation\n",
    "\n",
    "    \n",
    "6. Models\n",
    "    1. Embedding to Class\n",
    "    2. Simple RNN (Embedding connected to 1 layer RNN)\n",
    "    3. Bidirectional RNN\n",
    "\n",
    "7. Modern RNN architecture\n",
    "    1. Long short-term memory (LSTM)\n",
    "    2. GRU\n",
    "    3. Attention\n",
    "    \n",
    "8. Keras\n",
    "    1. API\n",
    "    2. Deploy model to production and inference\n",
    "   \n",
    "9. Model optimization techniques\n",
    "    1. Dropout\n",
    "    2. Truncated backpropagation through time (TBPTT)"
   ]
  },
  {
   "cell_type": "markdown",
   "metadata": {
    "collapsed": true
   },
   "source": []
  }
 ],
 "metadata": {
  "kernelspec": {
   "display_name": "Python 3",
   "language": "python",
   "name": "python3"
  },
  "language_info": {
   "codemirror_mode": {
    "name": "ipython",
    "version": 3
   },
   "file_extension": ".py",
   "mimetype": "text/x-python",
   "name": "python",
   "nbconvert_exporter": "python",
   "pygments_lexer": "ipython3",
   "version": "3.6.8"
  }
 },
 "nbformat": 4,
 "nbformat_minor": 1
}
