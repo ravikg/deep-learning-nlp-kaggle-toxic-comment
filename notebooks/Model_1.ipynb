{
 "cells": [
  {
   "cell_type": "markdown",
   "metadata": {},
   "source": [
    "# Model 1\n",
    "\n",
    "Model 1 can be represented as follow:\n",
    "* Input => Embedding => Class"
   ]
  },
  {
   "cell_type": "markdown",
   "metadata": {},
   "source": [
    "### Steps for training:\n",
    "* Load Data\n",
    "    * Train Data\n",
    "* Pre-processing: Tokenization\n",
    "* Batching and Padding\n",
    "* Model definition\n",
    "* Training and valildation\n",
    "* Evaluation\n",
    "* Excercise"
   ]
  },
  {
   "cell_type": "markdown",
   "metadata": {},
   "source": [
    "### Load Data\n",
    "Load the toxic comment classification challenge dataset\n",
    "and split the dataset into training, validation, testing\n",
    "\n",
    "#### Data for training\n",
    "For training, we need dataset in 2 groups (pair: comment and its corresponding output label):\n",
    "1. __Input data:__ wikipedia comments\n",
    "2. __Output label:__ whether the comment is toxic or not\n"
   ]
  },
  {
   "cell_type": "markdown",
   "metadata": {},
   "source": [
    "#### Read CSV\n",
    "* read the csv data file using pandas"
   ]
  },
  {
   "cell_type": "code",
   "execution_count": null,
   "metadata": {},
   "outputs": [],
   "source": [
    "import pandas as pd\n",
    "train_csv = './storage/dataset/train.csv'\n",
    "train_df = pd.read_csv(train_csv)\n",
    "# To Do: sort the df based on size of comments (no. of words in comment)"
   ]
  },
  {
   "cell_type": "markdown",
   "metadata": {},
   "source": [
    "#### Training Data Preperation\n",
    "* read the labels and convert into one-class labels\n",
    "* we will focus on 2 class problem: toxic and non toxic comments\n",
    "* we will label all different types of toxic comments into same category of toxic label:\n",
    "    * 0 for toxic comment\n",
    "    * 1 for non-toxic comments\n",
    "* later we can explore how to make it multiclass classifier"
   ]
  },
  {
   "cell_type": "code",
   "execution_count": null,
   "metadata": {},
   "outputs": [],
   "source": [
    "# each toxic class is labelled as 1\n",
    "toxic_row_sums = train_df.iloc[:,2:].sum(axis=1)\n",
    "# if sum of toxic class is 0 then it is a clean comment\n",
    "train_df['clean'] = (toxic_row_sums==0)\n",
    "# Input Data\n",
    "train_texts = train_df['comment_text']\n",
    "# Output Label\n",
    "train_labels = train_df['clean']"
   ]
  },
  {
   "cell_type": "markdown",
   "metadata": {},
   "source": [
    "### Pre-processing : Tokenization\n",
    "Now we have training data in two separate dataframe columns (arrays/list): an ordered array consisting of comments (input for the network) and another array consisting of class lables in same order (output of the network).\n",
    "\n",
    "We have to transform this data into network input format and output format. This step is called pre-processing.  \n",
    "Steps of pre-processing:\n",
    "\n",
    "1. Tokenize the text into words\n",
    "2. Assign each word a dimension\n",
    "\n",
    "\n",
    "To accompolish step 1 and 2 we will use inbuilt __Tokenizer__ class"
   ]
  },
  {
   "cell_type": "code",
   "execution_count": null,
   "metadata": {},
   "outputs": [],
   "source": [
    "from tensorflow.keras.preprocessing.text import Tokenizer\n",
    "# set size of vocabulary\n",
    "# To Do: try different size \n",
    "max_vocab_size = 10000\n",
    "tokenizer = Tokenizer(num_words=max_vocab_size)\n",
    "tokenizer.fit_on_texts(train_texts)\n",
    "sequences = tokenizer.texts_to_sequences(train_texts)\n",
    "print(sequences[0])\n",
    "\n",
    "word_index = tokenizer.word_index\n",
    "print('Found %s unique tokens.' % len(word_index))"
   ]
  },
  {
   "cell_type": "markdown",
   "metadata": {},
   "source": [
    "### Batching and Padding for Embedding\n",
    "Now once we have the tokens and each token(word) has a dimension assigned to it, we will do following steps to create word embeddings  \n",
    "\n",
    "3. use this dimension assignments to define embedding for individual word\n",
    "4. use word embedding to create word vector for a comment\n",
    "\n",
    "\n",
    "We will use a specific type of network layer for this, which is called __Embedding Layer__. The above generated tokens (sequence of number) will go as input to Embedding layer, which will output word embeddings as output to next layer.  \n",
    "\n",
    "Input and Output of Neural Network are done is batches. A batch is a group of input data which are fed together to the network. As the network can process individual data element in parallel, the training will be faster.\n",
    "\n",
    "In case of Embedding Layer, Inpupt and Output in a batch can be seen as follows:  \n",
    "\n",
    "   **Input**: 2D tensor of integers, of shape (# seq. samples in particular batch, sequence_length), where each entry is a sequence of integers (output of above code).  \n",
    "   **Output**: 3D floating-point tensor of shape (# seq. samples in particula patch, sequence_length, embedding_dimensionality).  \n",
    "\n",
    "Sequence length can be variable per batch. But in a single batch sequence length will be same for all sequences.  \n",
    "\n",
    "So from data we have to create batches of sequence of similar length and to do that we have to pad or truncate each sequence to have same sequence length. And we can use each batch as a training input for embedding layer.  \n",
    "\n",
    "For sample case: we take 10k sequence from 160k for training in a single batch. And take max sequence length of 20 words.\n"
   ]
  },
  {
   "cell_type": "code",
   "execution_count": null,
   "metadata": {},
   "outputs": [],
   "source": [
    "from tensorflow.keras import preprocessing\n",
    "training_sequences = sequences[:10000]\n",
    "training_labels = train_labels[:10000]\n",
    "seq_max_len = 20\n",
    "# training padded sequences\n",
    "train_seq_pad = preprocessing.sequence.pad_sequences(sequences=training_sequences, maxlen=seq_max_len)\n",
    "\n",
    "# testing padded sequences\n",
    "testing_sequences = sequences[10000:11000]\n",
    "testing_labels = train_labels[10000:11000]\n",
    "test_seq_pad = preprocessing.sequence.pad_sequences(sequences=testing_sequences, maxlen=seq_max_len)\n",
    "\n",
    "# To Do: try more training data, try different sequence max length"
   ]
  },
  {
   "cell_type": "markdown",
   "metadata": {},
   "source": [
    "### Model 1. : Embedding to Class\n",
    "\n",
    "#### Define the model 1\n",
    "Model 1 is made of 4 layers:\n",
    "    - Layer 0 is input layer\n",
    "    - Layer 1 is Embedding layer (Hidden Layer)\n",
    "    - Layer 2 is Flatten Layer (Flattens the embedding layer)\n",
    "    - Layer 3 is Dense Layer (output layer)\n",
    "    \n",
    "**Embedding Layer**: This layer help us create word embedding (discussed in Sequence Representation section). For a single input (a sentence which comes as a seq. of integer) its output is 2D. Each integer(representing a word) gets transformed into a vector; so for a seq. of int. it generates a 2D matrix.\n",
    "\n",
    "**Flatten Layer**: Embedding layer outputs in 2D matrix, to use the output in a Dense layer upstream the output need to transformed into 1D and flatten layer does that."
   ]
  },
  {
   "cell_type": "code",
   "execution_count": null,
   "metadata": {
    "scrolled": true
   },
   "outputs": [],
   "source": [
    "from tensorflow.keras.models import Sequential\n",
    "from tensorflow.keras.layers import Flatten, Dense\n",
    "from tensorflow.keras.layers import Embedding\n",
    "\n",
    "model_1 = Sequential()\n",
    "\n",
    "# no. of unique words in the text data, each word in vocab will be assigned an index (dimension).\n",
    "# = max_vocab_size defined above\n",
    "vocab_size = 10000 \n",
    "\n",
    "# max length of single input data point i.e. count of words present in an input sentence\n",
    "# short seq are padded and long ones are truncated, done above\n",
    "# sequence size of single input for the network\n",
    "seq_max_len = 20 \n",
    "\n",
    "# dimension of word embedding model (output dimension of embedding layer)\n",
    "embedding_dim = 8 \n",
    "\n",
    "## layer 1: add Embedding Layer in the network\n",
    "#  input to this layer is data of shape: [batch_size, seq_max_len]\n",
    "model_1.add(Embedding(vocab_size, embedding_dim, input_length=seq_max_len))\n",
    "#  output of layer 1 is data of shape: [batch_size, embedding_dim, seq_max_len]\n",
    "\n",
    "## layer 2: flatten the input of shape [batch_size, embedding_dim, seq_max_len] \n",
    "model_1.add(Flatten())\n",
    "#  output of shape [batch_size, embedding_dimension x seq_max_len]\n",
    "\n",
    "## layer 3 (final/output layer): Dense layer \n",
    "#  all nodes from previous layers are connected to each nodes from this layer\n",
    "#  this has 1 unit/node for classification(toxic/non-toxic)\n",
    "#  and activation for 2 classes: sigmoind\n",
    "model_1.add(Dense(1, activation='sigmoid'))\n",
    "\n",
    "## compile:   configure the model for training\n",
    "#  optimizer: it is the method use to update the network, \n",
    "#             it is generally variant of stochastic gradient descent (SGD)  \n",
    "#             this method is use iteratively to update the network weights\n",
    "#  loss:      it is the (objective) function that will be minimised\n",
    "#  metrics:   this is use to measure the performance of network\n",
    "model_1.compile(optimizer='rmsprop', loss='binary_crossentropy', metrics=['acc'])"
   ]
  },
  {
   "cell_type": "code",
   "execution_count": null,
   "metadata": {},
   "outputs": [],
   "source": [
    "# prints the summary of the model\n",
    "model_1.summary()"
   ]
  },
  {
   "cell_type": "code",
   "execution_count": null,
   "metadata": {},
   "outputs": [],
   "source": [
    "# fit: trains the network for a fixed no. of epoch\n",
    "import numpy as np\n",
    "history_1 = model_1.fit(train_seq_pad, np.asarray(training_labels), epochs=10, batch_size=100, validation_split=0.2)"
   ]
  },
  {
   "cell_type": "markdown",
   "metadata": {},
   "source": [
    "<img src=\"img/m11.png\" alt=\"Visual representation of one hot encodding and word embedding\" style=\"width: 600px;\"/>  \n",
    "\n",
    "\n",
    "Created using [NN SVG Tool](http://alexlenail.me/NN-SVG/index.html)  \n",
    "\n",
    "For above diagram, following configs are used(1/4th of the ones used in code):\n",
    "1. seq_max_len = 5\n",
    "2. embedding_dim = 2\n",
    "3. flatten layer = 5x2 = 10\n",
    "4. desnse output layer = 1\n",
    "\n",
    "\n"
   ]
  },
  {
   "cell_type": "markdown",
   "metadata": {},
   "source": [
    "#### Test the model 1\n",
    "\n",
    "We will take a small test data from the unused training data to test our basic model.  \n",
    "\n",
    "`model_1.evaluate` method is use to evaluate the model. For evaluation we give input the test data in the same format as of training data together with label data for the test data to compare with.\n",
    "\n",
    "Ref: Listing 6.7 Deep Learning with Python book  "
   ]
  },
  {
   "cell_type": "code",
   "execution_count": null,
   "metadata": {},
   "outputs": [],
   "source": [
    "print(model_1.metrics_names)\n",
    "model_1.evaluate(x=test_seq_pad, y=np.asarray(testing_labels))"
   ]
  },
  {
   "cell_type": "markdown",
   "metadata": {},
   "source": [
    "## Excercises\n",
    "Try to improve performance of the model:\n",
    "* Sort comments after reading CSV file, to group comments of similar size in a batch\n",
    "* Try different vocab size during tokenization e.g. set size dynamically based on some logic e.g. select top 90% frequent words or words with frequency more than some value\n"
   ]
  }
 ],
 "metadata": {
  "kernelspec": {
   "display_name": "Python 3",
   "language": "python",
   "name": "python3"
  },
  "language_info": {
   "codemirror_mode": {
    "name": "ipython",
    "version": 3
   },
   "file_extension": ".py",
   "mimetype": "text/x-python",
   "name": "python",
   "nbconvert_exporter": "python",
   "pygments_lexer": "ipython3",
   "version": "3.7.3"
  }
 },
 "nbformat": 4,
 "nbformat_minor": 2
}
