{
 "cells": [
  {
   "cell_type": "markdown",
   "metadata": {},
   "source": [
    "# Model 2\n",
    "\n",
    "Model 2 can be represented as follow:\n",
    "* Input => Embedding => RNN => Class"
   ]
  },
  {
   "cell_type": "markdown",
   "metadata": {},
   "source": [
    "### Steps for training:\n",
    "* Load Data\n",
    "    * Train Data\n",
    "* Pre-processing: Tokenization\n",
    "* Batching and Padding\n",
    "* Model definition\n",
    "* Training and valildation\n",
    "* Evaluation\n",
    "* Excercise\n",
    "\n",
    "All steps are similar to Model 1 notebook.  \n",
    "We can directly jump to Model definition step."
   ]
  },
  {
   "cell_type": "markdown",
   "metadata": {},
   "source": [
    "### Load Data\n",
    "Load the toxic comment classification challenge dataset\n",
    "and split the dataset into training, validation, testing\n",
    "\n",
    "#### Data for training\n",
    "For training, we need dataset in 2 groups (pair: comment and its corresponding output label):\n",
    "1. __Input data:__ wikipedia comments\n",
    "2. __Output label:__ whether the comment is toxic or not\n"
   ]
  },
  {
   "cell_type": "markdown",
   "metadata": {},
   "source": [
    "#### Read CSV\n",
    "* read the csv data file using pandas"
   ]
  },
  {
   "cell_type": "code",
   "execution_count": 1,
   "metadata": {},
   "outputs": [],
   "source": [
    "import pandas as pd\n",
    "train_csv = './storage/dataset/train.csv'\n",
    "train_df = pd.read_csv(train_csv)\n",
    "# To Do: sort the df based on size of comments (no. of words in comment)"
   ]
  },
  {
   "cell_type": "markdown",
   "metadata": {},
   "source": [
    "#### Training Data Preperation\n",
    "* read the labels and convert into one-class labels\n",
    "* we will focus on 2 class problem: toxic and non toxic comments\n",
    "* we will label all different types of toxic comments into same category of toxic label:\n",
    "    * 0 for toxic comment\n",
    "    * 1 for non-toxic comments\n",
    "* later we can explore how to make it multiclass classifier"
   ]
  },
  {
   "cell_type": "code",
   "execution_count": 2,
   "metadata": {},
   "outputs": [],
   "source": [
    "# each toxic class is labelled as 1\n",
    "toxic_row_sums = train_df.iloc[:,2:].sum(axis=1)\n",
    "# if sum of toxic class is 0 then it is a clean comment\n",
    "train_df['clean'] = (toxic_row_sums==0)\n",
    "# Input Data\n",
    "train_texts = train_df['comment_text']\n",
    "# Output Label\n",
    "train_labels = train_df['clean']"
   ]
  },
  {
   "cell_type": "markdown",
   "metadata": {},
   "source": [
    "### Pre-processing : Tokenization\n",
    "Now we have training data in two separate dataframe columns (arrays/list): an ordered array consisting of comments (input for the network) and another array consisting of class lables in same order (output of the network).\n",
    "\n",
    "We have to transform this data into network input format and output format. This step is called pre-processing.  \n",
    "Steps of pre-processing:\n",
    "\n",
    "1. Tokenize the text into words\n",
    "2. Assign each word a dimension\n",
    "\n",
    "\n",
    "To accompolish step 1 and 2 we will use inbuilt __Tokenizer__ class"
   ]
  },
  {
   "cell_type": "code",
   "execution_count": 3,
   "metadata": {},
   "outputs": [
    {
     "name": "stderr",
     "output_type": "stream",
     "text": [
      "Using TensorFlow backend.\n"
     ]
    },
    {
     "name": "stdout",
     "output_type": "stream",
     "text": [
      "[688, 75, 1, 126, 130, 177, 29, 672, 4511, 1116, 86, 331, 51, 2278, 50, 6864, 15, 60, 2756, 148, 7, 2937, 34, 117, 1221, 2825, 4, 45, 59, 244, 1, 365, 31, 1, 38, 27, 143, 73, 3462, 89, 3085, 4583, 2273, 985]\n",
      "Found 210337 unique tokens.\n"
     ]
    }
   ],
   "source": [
    "from keras.preprocessing.text import Tokenizer\n",
    "# set size of vocabulary\n",
    "# To Do: try different size \n",
    "max_vocab_size = 10000\n",
    "tokenizer = Tokenizer(num_words=max_vocab_size)\n",
    "tokenizer.fit_on_texts(train_texts)\n",
    "sequences = tokenizer.texts_to_sequences(train_texts)\n",
    "print(sequences[0])\n",
    "\n",
    "word_index = tokenizer.word_index\n",
    "print('Found %s unique tokens.' % len(word_index))"
   ]
  },
  {
   "cell_type": "markdown",
   "metadata": {},
   "source": [
    "### Batching and Padding for Embedding\n",
    "Now once we have the tokens and each token(word) has a dimension assigned to it, we will do following steps to create word embeddings  \n",
    "\n",
    "3. use this dimension assignments to define embedding for individual word\n",
    "4. use word embedding to create word vector for a comment\n",
    "\n",
    "\n",
    "We will use a specific type of network layer for this, which is called __Embedding Layer__. The above generated tokens (sequence of number) will go as input to Embedding layer, which will output word embeddings as output to next layer.  \n",
    "\n",
    "Input and Output of Neural Network are done is batches. A batch is a group of input data which are fed together to the network. As the network can process individual data element in parallel, the training will be faster.\n",
    "\n",
    "In case of Embedding Layer, Inpupt and Output in a batch can be seen as follows:  \n",
    "\n",
    "   **Input**: 2D tensor of integers, of shape (# seq. samples in particular batch, sequence_length), where each entry is a sequence of integers (output of above code).  \n",
    "   **Output**: 3D floating-point tensor of shape (# seq. samples in particula patch, sequence_length, embedding_dimensionality).  \n",
    "\n",
    "Sequence length can be variable per batch. But in a single batch sequence length will be same for all sequences.  \n",
    "\n",
    "So from data we have to create batches of sequence of similar length and to do that we have to pad or truncate each sequence to have same sequence length. And we can use each batch as a training input for embedding layer.  \n",
    "\n",
    "For sample case: we take 10k sequence from 160k for training in a single batch. And take max sequence length of 20 words.\n"
   ]
  },
  {
   "cell_type": "code",
   "execution_count": 4,
   "metadata": {},
   "outputs": [],
   "source": [
    "from keras import preprocessing\n",
    "training_sequences = sequences[:10000]\n",
    "training_labels = train_labels[:10000]\n",
    "seq_max_len = 20\n",
    "# training padded sequences\n",
    "train_seq_pad = preprocessing.sequence.pad_sequences(sequences=training_sequences, maxlen=seq_max_len)\n",
    "\n",
    "# testing padded sequences\n",
    "testing_sequences = sequences[10000:11000]\n",
    "testing_labels = train_labels[10000:11000]\n",
    "test_seq_pad = preprocessing.sequence.pad_sequences(sequences=testing_sequences, maxlen=seq_max_len)\n",
    "\n",
    "# To Do: try more training data, try different sequence max length"
   ]
  },
  {
   "cell_type": "markdown",
   "metadata": {},
   "source": [
    "### Model 2: Embedding => RNN => Output\n",
    "In this model 2 we will extend the Model 1 by adding an RNN layer in between the Embedding layer and output layer.\n",
    "\n",
    "#### Define the model 2\n",
    "Model 2 is made of 4 layers:\n",
    "    - Layer 0 is input layer\n",
    "    - Layer 1 is Embedding layer\n",
    "    - Layer 2 is RNN layer\n",
    "    - Layer 3 is Dense Layer (output/classification layer) \n",
    "    \n",
    "    \n",
    "**RNN : Recurrent Neural Network**\n",
    "\n",
    "\n",
    "<img src=\"img/rnn.png\" alt=\"Recurrent Neural Network\" style=\"width: 300px;\"/>  \n",
    "\n",
    "Source: [Deep Learning with Python, Book by François Chollet](https://www.manning.com/books/deep-learning-with-python)\n",
    "\n",
    "RNN is a neural network has following properties:\n",
    " - processes each element(word) of a sequence(sentence) one by one \n",
    " - and output of intermediate element is fed back together with the next element.\n",
    " - The state of RNN is reset between two indepeent sequence\n",
    " \n",
    "Input for Dense layer is only the output at the end of the sequence."
   ]
  },
  {
   "cell_type": "markdown",
   "metadata": {},
   "source": [
    "![Unrolled RNN](img/RNN-unrolled.png)  \n",
    "\n",
    "\n",
    "Source: http://colah.github.io/posts/2015-08-Understanding-LSTMs/"
   ]
  },
  {
   "cell_type": "markdown",
   "metadata": {},
   "source": [
    "In this model, we don't need Flatten layer as by default SimpleRNN layer output only the last element from the processed output (h_t)"
   ]
  },
  {
   "cell_type": "code",
   "execution_count": 5,
   "metadata": {},
   "outputs": [],
   "source": [
    "from keras.models import Sequential\n",
    "from keras.layers import Dense, Embedding, SimpleRNN\n",
    "\n",
    "# model configurations\n",
    "vocab_size = 10000\n",
    "seq_max_len = 20 # this can be removed as it is not required for next layer which is RNN\n",
    "embedding_dim = 16\n",
    "\n",
    "# model definition\n",
    "model_2 = Sequential()\n",
    "model_2.add(Embedding(vocab_size, embedding_dim, input_length=seq_max_len))\n",
    "model_2.add(SimpleRNN(32))\n",
    "model_2.add(Dense(1, activation='sigmoid'))\n",
    "model_2.compile(optimizer='rmsprop', loss='binary_crossentropy', metrics=['acc'])"
   ]
  },
  {
   "cell_type": "code",
   "execution_count": 6,
   "metadata": {},
   "outputs": [
    {
     "name": "stdout",
     "output_type": "stream",
     "text": [
      "_________________________________________________________________\n",
      "Layer (type)                 Output Shape              Param #   \n",
      "=================================================================\n",
      "embedding_1 (Embedding)      (None, 20, 16)            160000    \n",
      "_________________________________________________________________\n",
      "simple_rnn_1 (SimpleRNN)     (None, 32)                1568      \n",
      "_________________________________________________________________\n",
      "dense_1 (Dense)              (None, 1)                 33        \n",
      "=================================================================\n",
      "Total params: 161,601\n",
      "Trainable params: 161,601\n",
      "Non-trainable params: 0\n",
      "_________________________________________________________________\n"
     ]
    }
   ],
   "source": [
    "model_2.summary()"
   ]
  },
  {
   "cell_type": "markdown",
   "metadata": {},
   "source": [
    "#### Train the model 2"
   ]
  },
  {
   "cell_type": "code",
   "execution_count": 7,
   "metadata": {},
   "outputs": [
    {
     "name": "stdout",
     "output_type": "stream",
     "text": [
      "Train on 8000 samples, validate on 2000 samples\n",
      "Epoch 1/10\n",
      "8000/8000 [==============================] - 4s 456us/step - loss: 0.3066 - acc: 0.8976 - val_loss: 0.2338 - val_acc: 0.9260\n",
      "Epoch 2/10\n",
      "8000/8000 [==============================] - 2s 281us/step - loss: 0.1993 - acc: 0.9294 - val_loss: 0.1985 - val_acc: 0.9325\n",
      "Epoch 3/10\n",
      "8000/8000 [==============================] - 2s 263us/step - loss: 0.1582 - acc: 0.9425 - val_loss: 0.1970 - val_acc: 0.9365\n",
      "Epoch 4/10\n",
      "8000/8000 [==============================] - 2s 286us/step - loss: 0.1296 - acc: 0.9510 - val_loss: 0.2011 - val_acc: 0.9345\n",
      "Epoch 5/10\n",
      "8000/8000 [==============================] - 2s 276us/step - loss: 0.1021 - acc: 0.9635 - val_loss: 0.2403 - val_acc: 0.9335\n",
      "Epoch 6/10\n",
      "8000/8000 [==============================] - 2s 270us/step - loss: 0.0757 - acc: 0.9726 - val_loss: 0.2589 - val_acc: 0.9280\n",
      "Epoch 7/10\n",
      "8000/8000 [==============================] - 2s 306us/step - loss: 0.0523 - acc: 0.9816 - val_loss: 0.2997 - val_acc: 0.9075\n",
      "Epoch 8/10\n",
      "8000/8000 [==============================] - 3s 367us/step - loss: 0.0359 - acc: 0.9890 - val_loss: 0.3101 - val_acc: 0.9110\n",
      "Epoch 9/10\n",
      "8000/8000 [==============================] - 3s 342us/step - loss: 0.0243 - acc: 0.9925 - val_loss: 0.3195 - val_acc: 0.9105\n",
      "Epoch 10/10\n",
      "8000/8000 [==============================] - 2s 308us/step - loss: 0.0175 - acc: 0.9942 - val_loss: 0.3850 - val_acc: 0.9020\n"
     ]
    }
   ],
   "source": [
    "history_2 = model_2.fit(train_seq_pad, training_labels, epochs=10, batch_size=32, validation_split=0.2)"
   ]
  },
  {
   "cell_type": "markdown",
   "metadata": {},
   "source": [
    "#### Test the model 2"
   ]
  },
  {
   "cell_type": "code",
   "execution_count": 8,
   "metadata": {},
   "outputs": [
    {
     "name": "stdout",
     "output_type": "stream",
     "text": [
      "['loss', 'acc']\n",
      "1000/1000 [==============================] - 0s 70us/step\n"
     ]
    },
    {
     "data": {
      "text/plain": [
       "[0.34354388737678526, 0.90500000000000003]"
      ]
     },
     "execution_count": 8,
     "metadata": {},
     "output_type": "execute_result"
    }
   ],
   "source": [
    "print(model_2.metrics_names)\n",
    "model_2.evaluate(x=test_seq_pad, y=testing_labels)"
   ]
  },
  {
   "cell_type": "markdown",
   "metadata": {},
   "source": [
    "We see that above model didn't have good accuracy compared to much simpler model. We didn't use most of the data, training data is very less and also value of seq_len was less for training data and more for testing data."
   ]
  },
  {
   "cell_type": "markdown",
   "metadata": {},
   "source": [
    "## Excercises\n",
    "Try to improve performance of the model:\n",
    "\n",
    "* Sort comments after reading CSV file, to group comments of similar size in a batch\n",
    "* Try different vocab size during tokenization e.g. set size dynamically based on some logic e.g. select top 90% frequent words or words with frequency more than some value\n",
    "*"
   ]
  }
 ],
 "metadata": {
  "kernelspec": {
   "display_name": "Python 3",
   "language": "python",
   "name": "python3"
  },
  "language_info": {
   "codemirror_mode": {
    "name": "ipython",
    "version": 3
   },
   "file_extension": ".py",
   "mimetype": "text/x-python",
   "name": "python",
   "nbconvert_exporter": "python",
   "pygments_lexer": "ipython3",
   "version": "3.6.8"
  }
 },
 "nbformat": 4,
 "nbformat_minor": 2
}
