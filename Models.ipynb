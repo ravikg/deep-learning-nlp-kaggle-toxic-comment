{
 "cells": [
  {
   "cell_type": "markdown",
   "metadata": {},
   "source": [
    "# Models\n",
    "\n",
    "We will cover following models:\n",
    "* Embedding => Class\n",
    "* Embedding => Simple RNN => Class\n",
    "* Embedding => Bi-directional RNN => Class"
   ]
  },
  {
   "cell_type": "markdown",
   "metadata": {},
   "source": [
    "### Load data\n",
    "Load the toxic comment classification challenge dataset\n",
    "and split the dataset into training, validation, testing\n",
    "#### Input text for training\n",
    "1. Get the training data\n",
    "    * read the csv data file\n",
    "    * tokenize the data\n",
    "    * assign a dimension to each word\n",
    "    * convert into embeddings\n"
   ]
  },
  {
   "cell_type": "markdown",
   "metadata": {},
   "source": [
    "#### Read CSV"
   ]
  },
  {
   "cell_type": "code",
   "execution_count": 3,
   "metadata": {
    "scrolled": true
   },
   "outputs": [
    {
     "name": "stdout",
     "output_type": "stream",
     "text": [
      "159571\n"
     ]
    }
   ],
   "source": [
    "import csv\n",
    "data_folder = './data/toxic-comments/'\n",
    "train_texts = []\n",
    "with open(data_folder+'train.csv') as train_file:\n",
    "    reader = csv.DictReader(train_file)\n",
    "    for row in reader:\n",
    "        train_texts.append(row['comment_text'])\n",
    "print(len(train_texts))"
   ]
  },
  {
   "cell_type": "markdown",
   "metadata": {},
   "source": [
    "#### Output labels for training\n",
    "2. Get the training label\n",
    "    * read the labels and convert into one-class labels\n",
    "    * We will focus on 2 class problem: toxic and non toxic comments\n",
    "    * We will label all different types of toxic comments into same category of toxic label:\n",
    "        * 0 for toxic comment\n",
    "        * 1 for non-toxic comments\n",
    "    * Later we can explore how to make it multiclass classifier"
   ]
  },
  {
   "cell_type": "code",
   "execution_count": 4,
   "metadata": {},
   "outputs": [
    {
     "name": "stdout",
     "output_type": "stream",
     "text": [
      "159571\n"
     ]
    }
   ],
   "source": [
    "train_labels = []\n",
    "toxic_labels = ['toxic', 'severe_toxic', 'obscene', 'threat', 'insult', 'identity_hate']\n",
    "with open(data_folder+'train.csv') as train_file:\n",
    "    reader = csv.DictReader(train_file)\n",
    "    for row in reader:\n",
    "        not_toxic = True\n",
    "        # check for toxic labels\n",
    "        for label in toxic_labels:\n",
    "            if(row[label] == '1'):\n",
    "                train_labels.append(0)\n",
    "                not_toxic = False\n",
    "                break\n",
    "        if not_toxic:\n",
    "            train_labels.append(1)\n",
    "\n",
    "print(len(train_labels))    "
   ]
  },
  {
   "cell_type": "markdown",
   "metadata": {},
   "source": [
    "### Tokenization\n",
    "Now we have training data in two separate array: an ordered array consisting of comments (input) and another array consisting of class lables in same order (output).\n",
    "\n",
    "We have to transform this data into network input format and output format.\n",
    "Steps of preprocessing:\n",
    "\n",
    "1. Tokenize the text into words\n",
    "2. Assign each word a dimension\n",
    "\n",
    "\n",
    "To accompolish step 1 and 2 we will use inbuilt Tokenizer"
   ]
  },
  {
   "cell_type": "code",
   "execution_count": 5,
   "metadata": {},
   "outputs": [
    {
     "name": "stdout",
     "output_type": "stream",
     "text": [
      "[688, 75, 1, 126, 130, 177, 29, 672, 4511, 1116, 86, 331, 51, 2278, 50, 6864, 15, 60, 2756, 148, 7, 2937, 34, 117, 1221, 2825, 4, 45, 59, 244, 1, 365, 31, 1, 38, 27, 143, 73, 3462, 89, 3085, 4583, 2273, 985]\n",
      "Found 210337 unique tokes.\n"
     ]
    }
   ],
   "source": [
    "from keras.preprocessing.text import Tokenizer\n",
    "max_vocab_size = 10000\n",
    "tokenizer = Tokenizer(num_words=max_vocab_size)\n",
    "tokenizer.fit_on_texts(train_texts)\n",
    "sequences = tokenizer.texts_to_sequences(train_texts)\n",
    "print(sequences[0])\n",
    "\n",
    "word_index = tokenizer.word_index\n",
    "print('Found %s unique tokes.' % len(word_index))"
   ]
  },
  {
   "cell_type": "markdown",
   "metadata": {},
   "source": [
    "### Batching and Preprocessing (padding) for Embedding\n",
    "Now once we have the tokens, we will do following steps to create word embeddings  \n",
    "\n",
    "3. Then use this dimension assignment to define embedding\n",
    "4. Use word embedding to greate word vector for a comment\n",
    "\n",
    "\n",
    "We will use a specific type of Layer for this, which is called Embedding Layer. The above generated tokens will go as input to Embedding layer, which will output word embeddings as output to next layer:  \n",
    "\n",
    "   **Input**: 2D tensor of integers, of shape (samples, sequence_length), where each entry is a sequence of integers (output of above code).  \n",
    "   **Output**: 3D floating-point tensor of shape (samples, sequence_length, embedding_dimensionality).  \n",
    "\n",
    "Sequence length can be variable per batch. But in a single batch sequence length will be same for all sequences.  \n",
    "\n",
    "So from data we have to create batches of sequence of similar length and then pad or truncate each sequence to have same sequence length within a particular batch. And we can use each batch as a training input for embedding layer.  \n",
    "\n",
    "For sample case: we take 10k sequence from 160k for training in a single batch. And take max sequence length of 50 words.\n"
   ]
  },
  {
   "cell_type": "code",
   "execution_count": 6,
   "metadata": {},
   "outputs": [],
   "source": [
    "sample_sequences = sequences[:10000]\n",
    "sample_labels = train_labels[:10000]\n",
    "seq_max_len = 20\n",
    "\n",
    "from keras import preprocessing\n",
    "\n",
    "train_seq_pad = preprocessing.sequence.pad_sequences(sequences=sample_sequences, maxlen=seq_max_len)\n"
   ]
  },
  {
   "cell_type": "code",
   "execution_count": 7,
   "metadata": {
    "scrolled": true
   },
   "outputs": [
    {
     "name": "stdout",
     "output_type": "stream",
     "text": [
      "[   0    0    0   52 2635   13  555 3809   73 4556 2706   21   94   38\n",
      "  803 2679  992  589 8377  182]\n"
     ]
    }
   ],
   "source": [
    "print(train_seq_pad[1])"
   ]
  },
  {
   "cell_type": "code",
   "execution_count": 8,
   "metadata": {},
   "outputs": [],
   "source": [
    "test_sequences = sequences[10000:11000]\n",
    "test_labels = train_labels[10000:11000]\n",
    "seq_max_len = 50\n",
    "max_len = 20\n",
    "test_seq_pad = preprocessing.sequence.pad_sequences(sequences=test_sequences, maxlen=max_len)"
   ]
  },
  {
   "cell_type": "markdown",
   "metadata": {},
   "source": [
    "### Model 1. : Embedding to Class\n",
    "\n",
    "#### Define the model 1\n",
    "Model 1 is made of 2 layers:\n",
    "    - Layer 1 is Embedding layer\n",
    "    - Layer 2 is classification (Dense) Layer"
   ]
  },
  {
   "cell_type": "code",
   "execution_count": 14,
   "metadata": {},
   "outputs": [
    {
     "name": "stdout",
     "output_type": "stream",
     "text": [
      "_________________________________________________________________\n",
      "Layer (type)                 Output Shape              Param #   \n",
      "=================================================================\n",
      "embedding_2 (Embedding)      (None, 20, 8)             80000     \n",
      "_________________________________________________________________\n",
      "flatten_2 (Flatten)          (None, 160)               0         \n",
      "_________________________________________________________________\n",
      "dense_2 (Dense)              (None, 1)                 161       \n",
      "=================================================================\n",
      "Total params: 80,161\n",
      "Trainable params: 80,161\n",
      "Non-trainable params: 0\n",
      "_________________________________________________________________\n",
      "Train on 8000 samples, validate on 2000 samples\n",
      "Epoch 1/10\n",
      "8000/8000 [==============================] - 0s 46us/step - loss: 0.4614 - acc: 0.8766 - val_loss: 0.2789 - val_acc: 0.9100\n",
      "Epoch 2/10\n",
      "8000/8000 [==============================] - 0s 28us/step - loss: 0.2766 - acc: 0.8952 - val_loss: 0.2417 - val_acc: 0.9120\n",
      "Epoch 3/10\n",
      "8000/8000 [==============================] - 0s 28us/step - loss: 0.2338 - acc: 0.9050 - val_loss: 0.2202 - val_acc: 0.9215\n",
      "Epoch 4/10\n",
      "8000/8000 [==============================] - 0s 29us/step - loss: 0.2038 - acc: 0.9185 - val_loss: 0.2103 - val_acc: 0.9275\n",
      "Epoch 5/10\n",
      "8000/8000 [==============================] - 0s 29us/step - loss: 0.1864 - acc: 0.9277 - val_loss: 0.2065 - val_acc: 0.9320\n",
      "Epoch 6/10\n",
      "8000/8000 [==============================] - 0s 29us/step - loss: 0.1745 - acc: 0.9332 - val_loss: 0.2058 - val_acc: 0.9345\n",
      "Epoch 7/10\n",
      "8000/8000 [==============================] - 0s 28us/step - loss: 0.1661 - acc: 0.9369 - val_loss: 0.2058 - val_acc: 0.9345\n",
      "Epoch 8/10\n",
      "8000/8000 [==============================] - 0s 36us/step - loss: 0.1588 - acc: 0.9401 - val_loss: 0.2061 - val_acc: 0.9330\n",
      "Epoch 9/10\n",
      "8000/8000 [==============================] - 0s 35us/step - loss: 0.1514 - acc: 0.9416 - val_loss: 0.2068 - val_acc: 0.9335\n",
      "Epoch 10/10\n",
      "8000/8000 [==============================] - 0s 35us/step - loss: 0.1457 - acc: 0.9447 - val_loss: 0.2074 - val_acc: 0.9355\n"
     ]
    }
   ],
   "source": [
    "from keras.models import Sequential\n",
    "from keras.layers import Flatten, Dense\n",
    "from keras.layers.embeddings import Embedding\n",
    "\n",
    "model1 = Sequential()\n",
    "# layer 0: add an embedding layer:\n",
    "vocab_size = 10000 # no. of unique words in the text data, each word in vocab will be assigned an index (dimension).\n",
    "embedding_dim = 8 # dimension of word embedding model, output of this layer\n",
    "max_len = 20 # max length of single input data e.g. count of words present in an input sentence, input of this layer\n",
    "model1.add(Embedding(vocab_size, embedding_dim, input_length=max_len))\n",
    "# input to above layer will be data of shape: [batch_size, max_len]\n",
    "# output of above layer will be data of shape: [batch_size, embedding_dimension, max_len]\n",
    "# layer 1: flatten the input of shape [batch_size, embedding_dimension, max_len] \n",
    "#          to out of shape [batch_size, embedding_dimension*max_len]\n",
    "model1.add(Flatten())\n",
    "# layer 2: Dense layer - all nodes from previous layers are connected to each nodes from this layer\n",
    "#          this has 1 unit/node for classification; and activation for 2 classes: sigmoind\n",
    "model1.add(Dense(1, activation='sigmoid'))\n",
    "# compile: configure the model for training\n",
    "#   optimizer: it is the method use to update the network, it is generally variant of stochastic gradient descent (SGD)  \n",
    "#              this method is use iteratively to update the network weights\n",
    "#   loss: it is the (objective) function that will be minimised\n",
    "#   metrics: this is use to measure the performance of network\n",
    "model1.compile(optimizer='rmsprop', loss='binary_crossentropy', metrics=['acc'])\n",
    "# todo: check this method\n",
    "model1.summary()\n",
    "# fit: trains the network for a fixed no. of epoch\n",
    "history1 = model1.fit(train_seq_pad, sample_labels, epochs=10, batch_size=32, validation_split=0.2)"
   ]
  },
  {
   "cell_type": "markdown",
   "metadata": {},
   "source": [
    "#### Test the model 1\n",
    "\n",
    "We will take a small test data from the unused training data to test our basic model."
   ]
  },
  {
   "cell_type": "code",
   "execution_count": 15,
   "metadata": {},
   "outputs": [
    {
     "name": "stdout",
     "output_type": "stream",
     "text": [
      "['loss', 'acc']\n",
      "1000/1000 [==============================] - 0s 11us/step\n"
     ]
    },
    {
     "data": {
      "text/plain": [
       "[0.1986279919743538, 0.928]"
      ]
     },
     "execution_count": 15,
     "metadata": {},
     "output_type": "execute_result"
    }
   ],
   "source": [
    "print(model1.metrics_names)\n",
    "model1.evaluate(x=test_seq_pad, y=test_labels)"
   ]
  },
  {
   "cell_type": "markdown",
   "metadata": {},
   "source": [
    "Ref: Listing 6.7 Deep Learning with Python book  \n",
    "\n",
    "//todo explain above code and add network diagram  \n",
    "`model1.evaluate` method is use to evaluate the model. For evaluation we give input the test data in the same format as of training data together with label data for the test data to compare with.\n"
   ]
  },
  {
   "cell_type": "markdown",
   "metadata": {},
   "source": [
    "### Model 2: Embedding => RNN => Output\n",
    "In this model 2 we will extend the Model 1 by adding an RNN layer in between the Embedding layer and output layer.\n",
    "\n",
    "#### Define the model 2\n",
    "Model 2 is made of 3 layers:\n",
    "    - Layer 1 is Embedding layer\n",
    "    - Layer 2 is RNN layer\n",
    "    - Layer 3 is classification (Dense) layer "
   ]
  },
  {
   "cell_type": "code",
   "execution_count": 16,
   "metadata": {},
   "outputs": [
    {
     "name": "stdout",
     "output_type": "stream",
     "text": [
      "_________________________________________________________________\n",
      "Layer (type)                 Output Shape              Param #   \n",
      "=================================================================\n",
      "embedding_3 (Embedding)      (None, 20, 16)            160000    \n",
      "_________________________________________________________________\n",
      "simple_rnn_1 (SimpleRNN)     (None, 32)                1568      \n",
      "_________________________________________________________________\n",
      "dense_3 (Dense)              (None, 1)                 33        \n",
      "=================================================================\n",
      "Total params: 161,601\n",
      "Trainable params: 161,601\n",
      "Non-trainable params: 0\n",
      "_________________________________________________________________\n"
     ]
    }
   ],
   "source": [
    "from keras.models import Sequential\n",
    "from keras.layers import Dense, Embedding, SimpleRNN\n",
    "\n",
    "# model configurations\n",
    "vocab_size = 10000\n",
    "seq_max_len = 20 # this can be removed as it is not required for next layer which is RNN\n",
    "embedding_dim = 16\n",
    "\n",
    "# model definition\n",
    "model2 = Sequential()\n",
    "model2.add(Embedding(vocab_size, embedding_dim, input_length=seq_max_len))\n",
    "model2.add(SimpleRNN(32))\n",
    "model2.add(Dense(1, activation='sigmoid'))\n",
    "model2.compile(optimizer='rmsprop', loss='binary_crossentropy', metrics=['acc'])\n",
    "model2.summary()"
   ]
  },
  {
   "cell_type": "markdown",
   "metadata": {},
   "source": [
    "#### Train the model 2"
   ]
  },
  {
   "cell_type": "code",
   "execution_count": 17,
   "metadata": {},
   "outputs": [
    {
     "name": "stdout",
     "output_type": "stream",
     "text": [
      "Train on 8000 samples, validate on 2000 samples\n",
      "Epoch 1/10\n",
      "8000/8000 [==============================] - 1s 135us/step - loss: 0.3268 - acc: 0.8928 - val_loss: 0.2445 - val_acc: 0.9155\n",
      "Epoch 2/10\n",
      "8000/8000 [==============================] - 1s 106us/step - loss: 0.2145 - acc: 0.9223 - val_loss: 0.2030 - val_acc: 0.9340\n",
      "Epoch 3/10\n",
      "8000/8000 [==============================] - 1s 108us/step - loss: 0.1606 - acc: 0.9418 - val_loss: 0.2515 - val_acc: 0.9025\n",
      "Epoch 4/10\n",
      "8000/8000 [==============================] - 1s 120us/step - loss: 0.1206 - acc: 0.9569 - val_loss: 0.2217 - val_acc: 0.9295\n",
      "Epoch 5/10\n",
      "8000/8000 [==============================] - 1s 116us/step - loss: 0.0856 - acc: 0.9721 - val_loss: 0.3468 - val_acc: 0.8650\n",
      "Epoch 6/10\n",
      "8000/8000 [==============================] - 1s 107us/step - loss: 0.0571 - acc: 0.9822 - val_loss: 0.2684 - val_acc: 0.9165\n",
      "Epoch 7/10\n",
      "8000/8000 [==============================] - 1s 108us/step - loss: 0.0385 - acc: 0.9874 - val_loss: 0.3241 - val_acc: 0.8970\n",
      "Epoch 8/10\n",
      "8000/8000 [==============================] - 1s 106us/step - loss: 0.0277 - acc: 0.9909 - val_loss: 0.3331 - val_acc: 0.9035\n",
      "Epoch 9/10\n",
      "8000/8000 [==============================] - 1s 107us/step - loss: 0.0176 - acc: 0.9951 - val_loss: 0.3404 - val_acc: 0.9130\n",
      "Epoch 10/10\n",
      "8000/8000 [==============================] - 1s 107us/step - loss: 0.0109 - acc: 0.9970 - val_loss: 0.4587 - val_acc: 0.8715\n"
     ]
    }
   ],
   "source": [
    "history2 = model2.fit(train_seq_pad, sample_labels, epochs=10, batch_size=32, validation_split=0.2)"
   ]
  },
  {
   "cell_type": "markdown",
   "metadata": {},
   "source": [
    "#### Test the model 2"
   ]
  },
  {
   "cell_type": "code",
   "execution_count": 18,
   "metadata": {},
   "outputs": [
    {
     "name": "stdout",
     "output_type": "stream",
     "text": [
      "['loss', 'acc']\n",
      "1000/1000 [==============================] - 0s 35us/step\n"
     ]
    },
    {
     "data": {
      "text/plain": [
       "[0.4412386049926281, 0.878]"
      ]
     },
     "execution_count": 18,
     "metadata": {},
     "output_type": "execute_result"
    }
   ],
   "source": [
    "print(model2.metrics_names)\n",
    "model2.evaluate(x=test_seq_pad, y=test_labels)"
   ]
  },
  {
   "cell_type": "markdown",
   "metadata": {},
   "source": [
    "We see that above model didn't have good accuracy compared to much simpler model. We didn't use most of the data, training data is very less and also value of seq_len was less for training data and more for testing data.\n",
    "\n",
    "\n",
    "We can extend the model by adding more RNN layers in between and for the above we didn't use the out of intermediate output of RNN layer.\n",
    "\n",
    "#### Extended model 2\n",
    "Extended model 2 is made of 5 layers:\n",
    "\n",
    "- Layer 1 is Embedding layer\n",
    "- Layer 2 is RNN layer (return full sequence)\n",
    "- Layer 3 is RNN layer (return full sequence)\n",
    "- Layer 4 is RNN layer (return last output)\n",
    "- Layer 5 is classification (Dense) layer \n"
   ]
  },
  {
   "cell_type": "code",
   "execution_count": 21,
   "metadata": {},
   "outputs": [
    {
     "name": "stdout",
     "output_type": "stream",
     "text": [
      "_________________________________________________________________\n",
      "Layer (type)                 Output Shape              Param #   \n",
      "=================================================================\n",
      "embedding_4 (Embedding)      (None, None, 16)          160000    \n",
      "_________________________________________________________________\n",
      "simple_rnn_2 (SimpleRNN)     (None, None, 32)          1568      \n",
      "_________________________________________________________________\n",
      "simple_rnn_3 (SimpleRNN)     (None, None, 64)          6208      \n",
      "_________________________________________________________________\n",
      "simple_rnn_4 (SimpleRNN)     (None, 32)                3104      \n",
      "_________________________________________________________________\n",
      "dense_4 (Dense)              (None, 1)                 33        \n",
      "=================================================================\n",
      "Total params: 170,913\n",
      "Trainable params: 170,913\n",
      "Non-trainable params: 0\n",
      "_________________________________________________________________\n"
     ]
    }
   ],
   "source": [
    "model2ext = Sequential()\n",
    "model2ext.add(Embedding(vocab_size, embedding_dim))\n",
    "# for intermediate layers, we want to return output of each cell of RNN, \n",
    "# so that it forms a seq. which is processed by next RNN layer\n",
    "model2ext.add(SimpleRNN(32, return_sequences=True))\n",
    "model2ext.add(SimpleRNN(64, return_sequences=True))\n",
    "# in final RNN layer we will not return the sequence but only the final output,\n",
    "# which is use in the next non RNN layer e.g. Dense layer in this case\n",
    "model2ext.add(SimpleRNN(32))\n",
    "model2ext.add(Dense(1, activation='sigmoid'))\n",
    "model2ext.compile(optimizer='rmsprop', loss='binary_crossentropy', metrics=['acc'])\n",
    "model2ext.summary()"
   ]
  },
  {
   "cell_type": "markdown",
   "metadata": {},
   "source": [
    "#### Train the ext. model 2"
   ]
  },
  {
   "cell_type": "code",
   "execution_count": 22,
   "metadata": {},
   "outputs": [
    {
     "name": "stdout",
     "output_type": "stream",
     "text": [
      "Train on 8000 samples, validate on 2000 samples\n",
      "Epoch 1/10\n",
      "8000/8000 [==============================] - 2s 279us/step - loss: 0.3172 - acc: 0.8936 - val_loss: 0.2279 - val_acc: 0.9215\n",
      "Epoch 2/10\n",
      "8000/8000 [==============================] - 2s 225us/step - loss: 0.2038 - acc: 0.9255 - val_loss: 0.2174 - val_acc: 0.9285\n",
      "Epoch 3/10\n",
      "8000/8000 [==============================] - 2s 218us/step - loss: 0.1416 - acc: 0.9490 - val_loss: 0.2114 - val_acc: 0.9315\n",
      "Epoch 4/10\n",
      "8000/8000 [==============================] - 2s 223us/step - loss: 0.0926 - acc: 0.9679 - val_loss: 0.2591 - val_acc: 0.9245\n",
      "Epoch 5/10\n",
      "8000/8000 [==============================] - 2s 232us/step - loss: 0.0547 - acc: 0.9806 - val_loss: 0.3127 - val_acc: 0.9095\n",
      "Epoch 6/10\n",
      "8000/8000 [==============================] - 2s 222us/step - loss: 0.0285 - acc: 0.9914 - val_loss: 0.3718 - val_acc: 0.9090\n",
      "Epoch 7/10\n",
      "8000/8000 [==============================] - 2s 227us/step - loss: 0.0133 - acc: 0.9960 - val_loss: 0.6053 - val_acc: 0.8665\n",
      "Epoch 8/10\n",
      "8000/8000 [==============================] - 2s 223us/step - loss: 0.0079 - acc: 0.9974 - val_loss: 0.6112 - val_acc: 0.8795\n",
      "Epoch 9/10\n",
      "8000/8000 [==============================] - 2s 222us/step - loss: 0.0048 - acc: 0.9986 - val_loss: 0.5428 - val_acc: 0.9200\n",
      "Epoch 10/10\n",
      "8000/8000 [==============================] - 2s 225us/step - loss: 0.0034 - acc: 0.9990 - val_loss: 0.7046 - val_acc: 0.8880\n"
     ]
    }
   ],
   "source": [
    "history2ext = model2ext.fit(train_seq_pad, sample_labels, epochs=10, batch_size=32, validation_split=0.2)"
   ]
  },
  {
   "cell_type": "markdown",
   "metadata": {},
   "source": [
    "#### Test the ext. model 2"
   ]
  },
  {
   "cell_type": "code",
   "execution_count": 23,
   "metadata": {},
   "outputs": [
    {
     "name": "stdout",
     "output_type": "stream",
     "text": [
      "['loss', 'acc']\n",
      "1000/1000 [==============================] - 0s 80us/step\n"
     ]
    },
    {
     "data": {
      "text/plain": [
       "[0.6179015170745552, 0.893]"
      ]
     },
     "execution_count": 23,
     "metadata": {},
     "output_type": "execute_result"
    }
   ],
   "source": [
    "print(model2ext.metrics_names)\n",
    "model2ext.evaluate(x=test_seq_pad, y=test_labels)"
   ]
  },
  {
   "cell_type": "markdown",
   "metadata": {},
   "source": [
    "# Model 3: Embedding => Bidirectional RNN => Output\n",
    "In this model 3 we will extend the Model 2 by wrapping the RNN layer with a Bidirectional wrapper.\n",
    "\n",
    "#### Define the model 3\n",
    "Extended model 3 is made of 3 layers:\n",
    "\n",
    "- Layer 1 is Embedding layer\n",
    "- Layer 2 is Bidirectional RNN layer (return last output)\n",
    "- Layer 3 is classification (Dense) layer "
   ]
  },
  {
   "cell_type": "code",
   "execution_count": 8,
   "metadata": {},
   "outputs": [
    {
     "name": "stdout",
     "output_type": "stream",
     "text": [
      "_________________________________________________________________\n",
      "Layer (type)                 Output Shape              Param #   \n",
      "=================================================================\n",
      "embedding_2 (Embedding)      (None, 20, 16)            160000    \n",
      "_________________________________________________________________\n",
      "bidirectional_2 (Bidirection (None, 64)                3136      \n",
      "_________________________________________________________________\n",
      "dense_2 (Dense)              (None, 1)                 65        \n",
      "=================================================================\n",
      "Total params: 163,201\n",
      "Trainable params: 163,201\n",
      "Non-trainable params: 0\n",
      "_________________________________________________________________\n"
     ]
    }
   ],
   "source": [
    "from keras.models import Sequential\n",
    "from keras.layers import Dense, Embedding, SimpleRNN\n",
    "from keras.layers.wrappers import Bidirectional\n",
    "\n",
    "# model configurations\n",
    "vocab_size = 10000\n",
    "seq_max_len = 20 # this can be removed as it is not required for next layer which is RNN\n",
    "embedding_dim = 16\n",
    "\n",
    "# model definition\n",
    "model3 = Sequential()\n",
    "model3.add(Embedding(vocab_size, embedding_dim, input_length=seq_max_len))\n",
    "# [1] This will create two copies of the hidden layer, \n",
    "# one fit in the input sequences as-is and one on a reversed copy of the input sequence. \n",
    "# By default, the output values from these LSTMs will be concatenated.\n",
    "model3.add(Bidirectional(SimpleRNN(32)))\n",
    "model3.add(Dense(1, activation='sigmoid'))\n",
    "model3.compile(optimizer='rmsprop', loss='binary_crossentropy', metrics=['acc'])\n",
    "model3.summary()"
   ]
  },
  {
   "cell_type": "markdown",
   "metadata": {},
   "source": [
    "#### Train model 3"
   ]
  },
  {
   "cell_type": "code",
   "execution_count": 9,
   "metadata": {},
   "outputs": [
    {
     "name": "stdout",
     "output_type": "stream",
     "text": [
      "Train on 8000 samples, validate on 2000 samples\n",
      "Epoch 1/10\n",
      "8000/8000 [==============================] - 1s 182us/step - loss: 0.3170 - acc: 0.8947 - val_loss: 0.2213 - val_acc: 0.9255\n",
      "Epoch 2/10\n",
      "8000/8000 [==============================] - 1s 125us/step - loss: 0.1959 - acc: 0.9272 - val_loss: 0.2322 - val_acc: 0.9245\n",
      "Epoch 3/10\n",
      "8000/8000 [==============================] - 1s 127us/step - loss: 0.1392 - acc: 0.9503 - val_loss: 0.2569 - val_acc: 0.9065\n",
      "Epoch 4/10\n",
      "8000/8000 [==============================] - 1s 125us/step - loss: 0.0979 - acc: 0.9645 - val_loss: 0.2478 - val_acc: 0.9165\n",
      "Epoch 5/10\n",
      "8000/8000 [==============================] - 1s 132us/step - loss: 0.0652 - acc: 0.9785 - val_loss: 0.2482 - val_acc: 0.9285\n",
      "Epoch 6/10\n",
      "8000/8000 [==============================] - 1s 123us/step - loss: 0.0436 - acc: 0.9844 - val_loss: 0.2623 - val_acc: 0.9255\n",
      "Epoch 7/10\n",
      "8000/8000 [==============================] - 1s 124us/step - loss: 0.0262 - acc: 0.9925 - val_loss: 0.3277 - val_acc: 0.9125\n",
      "Epoch 8/10\n",
      "8000/8000 [==============================] - 1s 124us/step - loss: 0.0180 - acc: 0.9946 - val_loss: 0.3479 - val_acc: 0.8980\n",
      "Epoch 9/10\n",
      "8000/8000 [==============================] - 1s 136us/step - loss: 0.0112 - acc: 0.9960 - val_loss: 0.3935 - val_acc: 0.8930\n",
      "Epoch 10/10\n",
      "8000/8000 [==============================] - 1s 137us/step - loss: 0.0072 - acc: 0.9981 - val_loss: 0.3772 - val_acc: 0.9070\n"
     ]
    }
   ],
   "source": [
    "history3 = model3.fit(train_seq_pad, sample_labels, epochs=10, batch_size=32, validation_split=0.2)"
   ]
  },
  {
   "cell_type": "markdown",
   "metadata": {},
   "source": [
    "#### Testing model 3"
   ]
  },
  {
   "cell_type": "code",
   "execution_count": 13,
   "metadata": {
    "scrolled": true
   },
   "outputs": [
    {
     "name": "stdout",
     "output_type": "stream",
     "text": [
      "['loss', 'acc']\n",
      "1000/1000 [==============================] - 0s 54us/step\n"
     ]
    },
    {
     "data": {
      "text/plain": [
       "[0.3804259589314461, 0.911]"
      ]
     },
     "execution_count": 13,
     "metadata": {},
     "output_type": "execute_result"
    }
   ],
   "source": [
    "print(model3.metrics_names)\n",
    "model3.evaluate(x=test_seq_pad, y=test_labels)"
   ]
  },
  {
   "cell_type": "markdown",
   "metadata": {},
   "source": [
    "Similarly like model 2, model 3 can be extended by adding more bidirectional layers in between.  \n",
    "\n",
    "#### Extended model 3\n",
    "Extended model 3 is made of 5 layers:\n",
    "\n",
    "- Layer 1 is Embedding layer\n",
    "- Layer 2 is Bidirectional RNN layer (return full sequence)\n",
    "- Layer 3 is Bidirectional RNN layer (return full sequence)\n",
    "- Layer 4 is Bidirectional RNN layer (return last output)\n",
    "- Layer 5 is classification (Dense) layer \n"
   ]
  },
  {
   "cell_type": "code",
   "execution_count": 1,
   "metadata": {},
   "outputs": [
    {
     "name": "stderr",
     "output_type": "stream",
     "text": [
      "Using TensorFlow backend.\n"
     ]
    }
   ],
   "source": [
    "from keras.models import Sequential\n",
    "from keras.layers import Dense, Embedding, SimpleRNN\n",
    "from keras.layers.wrappers import Bidirectional\n",
    "\n",
    "# model configurations\n",
    "vocab_size = 10000\n",
    "seq_max_len = 20 # this can be removed as it is not required for next layer which is RNN\n",
    "embedding_dim = 16"
   ]
  },
  {
   "cell_type": "code",
   "execution_count": 2,
   "metadata": {},
   "outputs": [
    {
     "name": "stdout",
     "output_type": "stream",
     "text": [
      "_________________________________________________________________\n",
      "Layer (type)                 Output Shape              Param #   \n",
      "=================================================================\n",
      "embedding_1 (Embedding)      (None, 20, 16)            160000    \n",
      "_________________________________________________________________\n",
      "bidirectional_1 (Bidirection (None, 20, 64)            3136      \n",
      "_________________________________________________________________\n",
      "bidirectional_2 (Bidirection (None, 20, 128)           16512     \n",
      "_________________________________________________________________\n",
      "bidirectional_3 (Bidirection (None, 64)                10304     \n",
      "_________________________________________________________________\n",
      "dense_1 (Dense)              (None, 1)                 65        \n",
      "=================================================================\n",
      "Total params: 190,017\n",
      "Trainable params: 190,017\n",
      "Non-trainable params: 0\n",
      "_________________________________________________________________\n"
     ]
    }
   ],
   "source": [
    "# model definition\n",
    "model3ext = Sequential()\n",
    "model3ext.add(Embedding(vocab_size, embedding_dim, input_length=seq_max_len))\n",
    "model3ext.add(Bidirectional(SimpleRNN(32, return_sequences=True)))\n",
    "model3ext.add(Bidirectional(SimpleRNN(64, return_sequences=True)))\n",
    "model3ext.add(Bidirectional(SimpleRNN(32)))\n",
    "model3ext.add(Dense(1, activation='sigmoid'))\n",
    "model3ext.compile(optimizer='rmsprop', loss='binary_crossentropy', metrics=['acc'])\n",
    "model3ext.summary()"
   ]
  },
  {
   "cell_type": "markdown",
   "metadata": {},
   "source": [
    "#### Train ext. model 3"
   ]
  },
  {
   "cell_type": "code",
   "execution_count": 9,
   "metadata": {},
   "outputs": [
    {
     "name": "stdout",
     "output_type": "stream",
     "text": [
      "Train on 8000 samples, validate on 2000 samples\n",
      "Epoch 1/10\n",
      "8000/8000 [==============================] - 4s 519us/step - loss: 0.2900 - acc: 0.9044 - val_loss: 0.2355 - val_acc: 0.9315\n",
      "Epoch 2/10\n",
      "8000/8000 [==============================] - 3s 422us/step - loss: 0.1839 - acc: 0.9358 - val_loss: 0.2136 - val_acc: 0.9300\n",
      "Epoch 3/10\n",
      "8000/8000 [==============================] - 3s 412us/step - loss: 0.1301 - acc: 0.9551 - val_loss: 0.2298 - val_acc: 0.9210\n",
      "Epoch 4/10\n",
      "8000/8000 [==============================] - 3s 420us/step - loss: 0.0831 - acc: 0.9715 - val_loss: 0.2632 - val_acc: 0.9345\n",
      "Epoch 5/10\n",
      "8000/8000 [==============================] - 4s 444us/step - loss: 0.0483 - acc: 0.9834 - val_loss: 0.2988 - val_acc: 0.9145\n",
      "Epoch 6/10\n",
      "8000/8000 [==============================] - 3s 429us/step - loss: 0.0289 - acc: 0.9909 - val_loss: 0.3482 - val_acc: 0.9100\n",
      "Epoch 7/10\n",
      "8000/8000 [==============================] - 3s 419us/step - loss: 0.0176 - acc: 0.9944 - val_loss: 0.5954 - val_acc: 0.8270\n",
      "Epoch 8/10\n",
      "8000/8000 [==============================] - 3s 421us/step - loss: 0.0086 - acc: 0.9967 - val_loss: 0.7343 - val_acc: 0.8320\n",
      "Epoch 9/10\n",
      "8000/8000 [==============================] - 3s 422us/step - loss: 0.0062 - acc: 0.9984 - val_loss: 0.6308 - val_acc: 0.8665\n",
      "Epoch 10/10\n",
      "8000/8000 [==============================] - 3s 432us/step - loss: 0.0024 - acc: 0.9994 - val_loss: 0.8146 - val_acc: 0.8585\n"
     ]
    }
   ],
   "source": [
    "history3ext = model3ext.fit(train_seq_pad, sample_labels, epochs=10, batch_size=32, validation_split=0.2)"
   ]
  },
  {
   "cell_type": "markdown",
   "metadata": {},
   "source": [
    "#### Test ext. model 3"
   ]
  },
  {
   "cell_type": "code",
   "execution_count": 10,
   "metadata": {},
   "outputs": [
    {
     "name": "stdout",
     "output_type": "stream",
     "text": [
      "['loss', 'acc']\n",
      "1000/1000 [==============================] - 0s 149us/step\n"
     ]
    },
    {
     "data": {
      "text/plain": [
       "[0.8440574564933777, 0.862]"
      ]
     },
     "execution_count": 10,
     "metadata": {},
     "output_type": "execute_result"
    }
   ],
   "source": [
    "print(model3ext.metrics_names)\n",
    "model3ext.evaluate(x=test_seq_pad, y=test_labels)"
   ]
  },
  {
   "cell_type": "markdown",
   "metadata": {},
   "source": [
    "### Plotting the above results\n",
    "\n",
    "//ToDo: train the above m\n"
   ]
  },
  {
   "cell_type": "code",
   "execution_count": null,
   "metadata": {},
   "outputs": [],
   "source": [
    "import matplotlib.pyplot"
   ]
  },
  {
   "cell_type": "markdown",
   "metadata": {},
   "source": [
    "##### Ref.:\n",
    "1. https://machinelearningmastery.com/develop-bidirectional-lstm-sequence-classification-python-keras/\n"
   ]
  }
 ],
 "metadata": {
  "kernelspec": {
   "display_name": "Python 3",
   "language": "python",
   "name": "python3"
  },
  "language_info": {
   "codemirror_mode": {
    "name": "ipython",
    "version": 3
   },
   "file_extension": ".py",
   "mimetype": "text/x-python",
   "name": "python",
   "nbconvert_exporter": "python",
   "pygments_lexer": "ipython3",
   "version": "3.6.6"
  }
 },
 "nbformat": 4,
 "nbformat_minor": 2
}
