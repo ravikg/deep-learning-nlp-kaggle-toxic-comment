{
 "cells": [
  {
   "cell_type": "markdown",
   "metadata": {},
   "source": [
    "# Models\n",
    "\n",
    "We will cover following models:\n",
    "* Embedding => Class\n",
    "* Embedding => Simple RNN => Class\n",
    "* Embedding => Bi-directional RNN => Class"
   ]
  },
  {
   "cell_type": "markdown",
   "metadata": {},
   "source": [
    "### Load data\n",
    "Load the toxic comment classification challenge dataset\n",
    "and split the dataset into training, validation, testing\n",
    "#### Input text for training\n",
    "1. Get the training data\n",
    "    * read the csv data file using pandas\n",
    "    * tokenize the data\n",
    "    * assign a dimension to each word\n",
    "    * convert into embeddings"
   ]
  },
  {
   "cell_type": "markdown",
   "metadata": {},
   "source": [
    "#### Read CSV"
   ]
  },
  {
   "cell_type": "code",
   "execution_count": 1,
   "metadata": {},
   "outputs": [],
   "source": [
    "import pandas as pd\n",
    "train_csv = './data/toxic-comments/train.csv'\n",
    "train_df = pd.read_csv(train_csv)\n",
    "# ToDo : sort the df based on size of comments (no. of words in comment)"
   ]
  },
  {
   "cell_type": "code",
   "execution_count": 2,
   "metadata": {},
   "outputs": [],
   "source": [
    "rowsums=train_df.iloc[:,2:].sum(axis=1)\n",
    "train_df['clean']=(rowsums==0)\n",
    "train_texts = train_df['comment_text']\n",
    "train_labels = train_df['clean']"
   ]
  },
  {
   "cell_type": "markdown",
   "metadata": {},
   "source": [
    "#### Output labels for training\n",
    "2. Get the training label\n",
    "    * read the labels and convert into one-class labels\n",
    "    * We will focus on 2 class problem: toxic and non toxic comments\n",
    "    * We will label all different types of toxic comments into same category of toxic label:\n",
    "        * 0 for toxic comment\n",
    "        * 1 for non-toxic comments\n",
    "    * Later we can explore how to make it multiclass classifier"
   ]
  },
  {
   "cell_type": "markdown",
   "metadata": {},
   "source": [
    "### Tokenization\n",
    "Now we have training data in two separate array: an ordered array consisting of comments (input) and another array consisting of class lables in same order (output).\n",
    "\n",
    "We have to transform this data into network input format and output format.\n",
    "Steps of preprocessing:\n",
    "\n",
    "1. Tokenize the text into words\n",
    "2. Assign each word a dimension\n",
    "\n",
    "\n",
    "To accompolish step 1 and 2 we will use inbuilt Tokenizer"
   ]
  },
  {
   "cell_type": "code",
   "execution_count": 3,
   "metadata": {},
   "outputs": [
    {
     "name": "stderr",
     "output_type": "stream",
     "text": [
      "Using TensorFlow backend.\n"
     ]
    },
    {
     "name": "stdout",
     "output_type": "stream",
     "text": [
      "[688, 75, 1, 126, 130, 177, 29, 672, 4511, 1116, 86, 331, 51, 2278, 50, 6864, 15, 60, 2756, 148, 7, 2937, 34, 117, 1221, 2825, 4, 45, 59, 244, 1, 365, 31, 1, 38, 27, 143, 73, 3462, 89, 3085, 4583, 2273, 985]\n",
      "Found 210337 unique tokes.\n"
     ]
    }
   ],
   "source": [
    "from keras.preprocessing.text import Tokenizer\n",
    "max_vocab_size = 10000\n",
    "tokenizer = Tokenizer(num_words=max_vocab_size)\n",
    "tokenizer.fit_on_texts(train_texts)\n",
    "sequences = tokenizer.texts_to_sequences(train_texts)\n",
    "print(sequences[0])\n",
    "\n",
    "word_index = tokenizer.word_index\n",
    "print('Found %s unique tokes.' % len(word_index))"
   ]
  },
  {
   "cell_type": "markdown",
   "metadata": {},
   "source": [
    "### Batching and Preprocessing (padding) for Embedding\n",
    "Now once we have the tokens, we will do following steps to create word embeddings  \n",
    "\n",
    "3. Then use this dimension assignment to define embedding\n",
    "4. Use word embedding to greate word vector for a comment\n",
    "\n",
    "\n",
    "We will use a specific type of Layer for this, which is called Embedding Layer. The above generated tokens will go as input to Embedding layer, which will output word embeddings as output to next layer:  \n",
    "\n",
    "   **Input**: 2D tensor of integers, of shape (samples, sequence_length), where each entry is a sequence of integers (output of above code).  \n",
    "   **Output**: 3D floating-point tensor of shape (samples, sequence_length, embedding_dimensionality).  \n",
    "\n",
    "Sequence length can be variable per batch. But in a single batch sequence length will be same for all sequences.  \n",
    "\n",
    "So from data we have to create batches of sequence of similar length and then pad or truncate each sequence to have same sequence length within a particular batch. And we can use each batch as a training input for embedding layer.  \n",
    "\n",
    "For sample case: we take 10k sequence from 160k for training in a single batch. And take max sequence length of 50 words.\n"
   ]
  },
  {
   "cell_type": "code",
   "execution_count": 4,
   "metadata": {},
   "outputs": [],
   "source": [
    "from keras import preprocessing\n",
    "training_sequences = sequences[:10000]\n",
    "training_labels = train_labels[:10000]\n",
    "seq_max_len = 20\n",
    "# training padded sequences\n",
    "train_seq_pad = preprocessing.sequence.pad_sequences(sequences=training_sequences, maxlen=seq_max_len)\n",
    "\n",
    "# testing padded sequences\n",
    "testing_sequences = sequences[10000:11000]\n",
    "testing_labels = train_labels[10000:11000]\n",
    "test_seq_pad = preprocessing.sequence.pad_sequences(sequences=testing_sequences, maxlen=seq_max_len)"
   ]
  },
  {
   "cell_type": "markdown",
   "metadata": {},
   "source": [
    "### Model 1. : Embedding to Class\n",
    "\n",
    "#### Define the model 1\n",
    "Model 1 is made of 2 layers:\n",
    "    - Layer 1 is Embedding layer\n",
    "    - Layer 2 is classification (Dense) Layer"
   ]
  },
  {
   "cell_type": "code",
   "execution_count": 5,
   "metadata": {},
   "outputs": [
    {
     "name": "stdout",
     "output_type": "stream",
     "text": [
      "Model: \"sequential_1\"\n",
      "_________________________________________________________________\n",
      "Layer (type)                 Output Shape              Param #   \n",
      "=================================================================\n",
      "embedding_1 (Embedding)      (None, 20, 8)             80000     \n",
      "_________________________________________________________________\n",
      "flatten_1 (Flatten)          (None, 160)               0         \n",
      "_________________________________________________________________\n",
      "dense_1 (Dense)              (None, 1)                 161       \n",
      "=================================================================\n",
      "Total params: 80,161\n",
      "Trainable params: 80,161\n",
      "Non-trainable params: 0\n",
      "_________________________________________________________________\n"
     ]
    },
    {
     "name": "stderr",
     "output_type": "stream",
     "text": [
      "/home/ravi/code/virtualenvs/deep-learn/lib/python3.6/site-packages/tensorflow_core/python/framework/indexed_slices.py:424: UserWarning: Converting sparse IndexedSlices to a dense Tensor of unknown shape. This may consume a large amount of memory.\n",
      "  \"Converting sparse IndexedSlices to a dense Tensor of unknown shape. \"\n"
     ]
    },
    {
     "name": "stdout",
     "output_type": "stream",
     "text": [
      "Train on 8000 samples, validate on 2000 samples\n",
      "Epoch 1/10\n",
      "8000/8000 [==============================] - 0s 50us/step - loss: 0.4540 - acc: 0.8767 - val_loss: 0.2789 - val_acc: 0.9100\n",
      "Epoch 2/10\n",
      "8000/8000 [==============================] - 0s 39us/step - loss: 0.2778 - acc: 0.8955 - val_loss: 0.2431 - val_acc: 0.9125\n",
      "Epoch 3/10\n",
      "8000/8000 [==============================] - 0s 39us/step - loss: 0.2335 - acc: 0.9035 - val_loss: 0.2222 - val_acc: 0.9185\n",
      "Epoch 4/10\n",
      "8000/8000 [==============================] - 0s 41us/step - loss: 0.2032 - acc: 0.9197 - val_loss: 0.2118 - val_acc: 0.9270\n",
      "Epoch 5/10\n",
      "8000/8000 [==============================] - 0s 41us/step - loss: 0.1848 - acc: 0.9289 - val_loss: 0.2084 - val_acc: 0.9315\n",
      "Epoch 6/10\n",
      "8000/8000 [==============================] - 0s 41us/step - loss: 0.1729 - acc: 0.9344 - val_loss: 0.2075 - val_acc: 0.9320\n",
      "Epoch 7/10\n",
      "8000/8000 [==============================] - 0s 40us/step - loss: 0.1630 - acc: 0.9380 - val_loss: 0.2080 - val_acc: 0.9330\n",
      "Epoch 8/10\n",
      "8000/8000 [==============================] - 0s 41us/step - loss: 0.1553 - acc: 0.9405 - val_loss: 0.2086 - val_acc: 0.9340\n",
      "Epoch 9/10\n",
      "8000/8000 [==============================] - 0s 47us/step - loss: 0.1477 - acc: 0.9424 - val_loss: 0.2090 - val_acc: 0.9340\n",
      "Epoch 10/10\n",
      "8000/8000 [==============================] - 0s 46us/step - loss: 0.1403 - acc: 0.9459 - val_loss: 0.2106 - val_acc: 0.9360\n"
     ]
    }
   ],
   "source": [
    "from keras.models import Sequential\n",
    "from keras.layers import Flatten, Dense\n",
    "from keras.layers.embeddings import Embedding\n",
    "\n",
    "model_1 = Sequential()\n",
    "\n",
    "## layer 0: add an embedding layer:\n",
    "# no. of unique words in the text data, each word in vocab will be assigned an index (dimension).\n",
    "vocab_size = 10000 \n",
    "# dimension of word embedding model (output of this layer)\n",
    "embedding_dim = 8 \n",
    "# max length of single input data e.g. count of words present in an input sentence, input of this layer\n",
    "seq_max_len = 20 \n",
    "# input to layer 0 is data of shape: [batch_size, seq_max_len]\n",
    "# output of layer 0 is data of shape: [batch_size, embedding_dim, seq_max_len]\n",
    "model_1.add(Embedding(vocab_size, embedding_dim, input_length=seq_max_len))\n",
    "\n",
    "## layer 1: flatten the input of shape [batch_size, embedding_dim, seq_max_len] \n",
    "#          to output of shape [batch_size, embedding_dimension*seq_max_len]\n",
    "model_1.add(Flatten())\n",
    "\n",
    "## layer 2: Dense layer - all nodes from previous layers are connected to each nodes from this layer\n",
    "#          this has 1 unit/node for classification(toxic/non-toxic)\n",
    "#          and activation for 2 classes: sigmoind\n",
    "model_1.add(Dense(1, activation='sigmoid'))\n",
    "\n",
    "## compile: configure the model for training\n",
    "# optimizer: it is the method use to update the network, \n",
    "#            it is generally variant of stochastic gradient descent (SGD)  \n",
    "#            this method is use iteratively to update the network weights\n",
    "# loss:      it is the (objective) function that will be minimised\n",
    "# metrics:   this is use to measure the performance of network\n",
    "model_1.compile(optimizer='rmsprop', loss='binary_crossentropy', metrics=['acc'])\n",
    "\n",
    "# prints the summary of the model\n",
    "model_1.summary()\n",
    "\n",
    "# fit: trains the network for a fixed no. of epoch\n",
    "history_1 = model_1.fit(train_seq_pad, training_labels, epochs=10, batch_size=32, validation_split=0.2)"
   ]
  },
  {
   "cell_type": "markdown",
   "metadata": {},
   "source": [
    "#### Test the model 1\n",
    "\n",
    "We will take a small test data from the unused training data to test our basic model.  \n",
    "\n",
    "`model_1.evaluate` method is use to evaluate the model. For evaluation we give input the test data in the same format as of training data together with label data for the test data to compare with.\n",
    "\n",
    "Ref: Listing 6.7 Deep Learning with Python book  "
   ]
  },
  {
   "cell_type": "code",
   "execution_count": 6,
   "metadata": {},
   "outputs": [
    {
     "name": "stdout",
     "output_type": "stream",
     "text": [
      "['loss', 'acc']\n",
      "1000/1000 [==============================] - 0s 13us/step\n"
     ]
    },
    {
     "data": {
      "text/plain": [
       "[0.20169082522392273, 0.925000011920929]"
      ]
     },
     "execution_count": 6,
     "metadata": {},
     "output_type": "execute_result"
    }
   ],
   "source": [
    "print(model_1.metrics_names)\n",
    "model_1.evaluate(x=test_seq_pad, y=testing_labels)"
   ]
  },
  {
   "cell_type": "markdown",
   "metadata": {},
   "source": [
    "### Model 2: Embedding => RNN => Output\n",
    "In this model 2 we will extend the Model 1 by adding an RNN layer in between the Embedding layer and output layer.\n",
    "\n",
    "#### Define the model 2\n",
    "Model 2 is made of 3 layers:\n",
    "    - Layer 1 is Embedding layer\n",
    "    - Layer 2 is RNN layer\n",
    "    - Layer 3 is classification (Dense) layer "
   ]
  },
  {
   "cell_type": "code",
   "execution_count": 7,
   "metadata": {},
   "outputs": [
    {
     "name": "stdout",
     "output_type": "stream",
     "text": [
      "Model: \"sequential_2\"\n",
      "_________________________________________________________________\n",
      "Layer (type)                 Output Shape              Param #   \n",
      "=================================================================\n",
      "embedding_2 (Embedding)      (None, 20, 16)            160000    \n",
      "_________________________________________________________________\n",
      "simple_rnn_1 (SimpleRNN)     (None, 32)                1568      \n",
      "_________________________________________________________________\n",
      "dense_2 (Dense)              (None, 1)                 33        \n",
      "=================================================================\n",
      "Total params: 161,601\n",
      "Trainable params: 161,601\n",
      "Non-trainable params: 0\n",
      "_________________________________________________________________\n"
     ]
    }
   ],
   "source": [
    "from keras.models import Sequential\n",
    "from keras.layers import Dense, Embedding, SimpleRNN\n",
    "\n",
    "# model configurations\n",
    "vocab_size = 10000\n",
    "seq_max_len = 20 # this can be removed as it is not required for next layer which is RNN\n",
    "embedding_dim = 16\n",
    "\n",
    "# model definition\n",
    "model_2 = Sequential()\n",
    "model_2.add(Embedding(vocab_size, embedding_dim, input_length=seq_max_len))\n",
    "model_2.add(SimpleRNN(32))\n",
    "model_2.add(Dense(1, activation='sigmoid'))\n",
    "model_2.compile(optimizer='rmsprop', loss='binary_crossentropy', metrics=['acc'])\n",
    "model_2.summary()"
   ]
  },
  {
   "cell_type": "markdown",
   "metadata": {},
   "source": [
    "#### Train the model 2"
   ]
  },
  {
   "cell_type": "code",
   "execution_count": 8,
   "metadata": {},
   "outputs": [
    {
     "name": "stderr",
     "output_type": "stream",
     "text": [
      "/home/ravi/code/virtualenvs/deep-learn/lib/python3.6/site-packages/tensorflow_core/python/framework/indexed_slices.py:424: UserWarning: Converting sparse IndexedSlices to a dense Tensor of unknown shape. This may consume a large amount of memory.\n",
      "  \"Converting sparse IndexedSlices to a dense Tensor of unknown shape. \"\n"
     ]
    },
    {
     "name": "stdout",
     "output_type": "stream",
     "text": [
      "Train on 8000 samples, validate on 2000 samples\n",
      "Epoch 1/10\n",
      "8000/8000 [==============================] - 1s 161us/step - loss: 0.3221 - acc: 0.8934 - val_loss: 0.2403 - val_acc: 0.9215\n",
      "Epoch 2/10\n",
      "8000/8000 [==============================] - 1s 128us/step - loss: 0.2091 - acc: 0.9239 - val_loss: 0.2113 - val_acc: 0.9295\n",
      "Epoch 3/10\n",
      "8000/8000 [==============================] - 1s 130us/step - loss: 0.1545 - acc: 0.9427 - val_loss: 0.2021 - val_acc: 0.9365\n",
      "Epoch 4/10\n",
      "8000/8000 [==============================] - 1s 131us/step - loss: 0.1107 - acc: 0.9603 - val_loss: 0.2208 - val_acc: 0.9290\n",
      "Epoch 5/10\n",
      "8000/8000 [==============================] - 1s 130us/step - loss: 0.0765 - acc: 0.9729 - val_loss: 0.2169 - val_acc: 0.9370\n",
      "Epoch 6/10\n",
      "8000/8000 [==============================] - 1s 130us/step - loss: 0.0506 - acc: 0.9831 - val_loss: 0.2521 - val_acc: 0.9190\n",
      "Epoch 7/10\n",
      "8000/8000 [==============================] - 1s 132us/step - loss: 0.0309 - acc: 0.9909 - val_loss: 0.2921 - val_acc: 0.9090\n",
      "Epoch 8/10\n",
      "8000/8000 [==============================] - 1s 135us/step - loss: 0.0189 - acc: 0.9941 - val_loss: 0.3289 - val_acc: 0.9100\n",
      "Epoch 9/10\n",
      "8000/8000 [==============================] - 1s 141us/step - loss: 0.0103 - acc: 0.9966 - val_loss: 0.4165 - val_acc: 0.8885\n",
      "Epoch 10/10\n",
      "8000/8000 [==============================] - 1s 137us/step - loss: 0.0069 - acc: 0.9977 - val_loss: 0.4840 - val_acc: 0.8735\n"
     ]
    }
   ],
   "source": [
    "history_2 = model_2.fit(train_seq_pad, training_labels, epochs=10, batch_size=32, validation_split=0.2)"
   ]
  },
  {
   "cell_type": "markdown",
   "metadata": {},
   "source": [
    "#### Test the model 2"
   ]
  },
  {
   "cell_type": "code",
   "execution_count": 9,
   "metadata": {},
   "outputs": [
    {
     "name": "stdout",
     "output_type": "stream",
     "text": [
      "['loss', 'acc']\n",
      "1000/1000 [==============================] - 0s 40us/step\n"
     ]
    },
    {
     "data": {
      "text/plain": [
       "[0.4380330653190613, 0.8820000290870667]"
      ]
     },
     "execution_count": 9,
     "metadata": {},
     "output_type": "execute_result"
    }
   ],
   "source": [
    "print(model_2.metrics_names)\n",
    "model_2.evaluate(x=test_seq_pad, y=testing_labels)"
   ]
  },
  {
   "cell_type": "markdown",
   "metadata": {},
   "source": [
    "We see that above model didn't have good accuracy compared to much simpler model. We didn't use most of the data, training data is very less and also value of seq_len was less for training data and more for testing data.\n",
    "\n",
    "\n",
    "We can extend the model by adding more RNN layers in between and for the above we didn't use the out of intermediate output of RNN layer.\n",
    "\n",
    "#### Extended model 2\n",
    "Extended model 2 is made of 5 layers:\n",
    "\n",
    "- Layer 1 is Embedding layer\n",
    "- Layer 2 is RNN layer (return full sequence)\n",
    "- Layer 3 is RNN layer (return full sequence)\n",
    "- Layer 4 is RNN layer (return last output)\n",
    "- Layer 5 is classification (Dense) layer \n"
   ]
  },
  {
   "cell_type": "code",
   "execution_count": 10,
   "metadata": {},
   "outputs": [
    {
     "name": "stdout",
     "output_type": "stream",
     "text": [
      "Model: \"sequential_3\"\n",
      "_________________________________________________________________\n",
      "Layer (type)                 Output Shape              Param #   \n",
      "=================================================================\n",
      "embedding_3 (Embedding)      (None, None, 16)          160000    \n",
      "_________________________________________________________________\n",
      "simple_rnn_2 (SimpleRNN)     (None, None, 32)          1568      \n",
      "_________________________________________________________________\n",
      "simple_rnn_3 (SimpleRNN)     (None, None, 64)          6208      \n",
      "_________________________________________________________________\n",
      "simple_rnn_4 (SimpleRNN)     (None, 32)                3104      \n",
      "_________________________________________________________________\n",
      "dense_3 (Dense)              (None, 1)                 33        \n",
      "=================================================================\n",
      "Total params: 170,913\n",
      "Trainable params: 170,913\n",
      "Non-trainable params: 0\n",
      "_________________________________________________________________\n"
     ]
    }
   ],
   "source": [
    "model_2_ext = Sequential()\n",
    "model_2_ext.add(Embedding(vocab_size, embedding_dim))\n",
    "# for intermediate layers, we want to return output of each cell of RNN, \n",
    "# so that it forms a seq. which is processed by next RNN layer\n",
    "model_2_ext.add(SimpleRNN(32, return_sequences=True))\n",
    "model_2_ext.add(SimpleRNN(64, return_sequences=True))\n",
    "# in final RNN layer we will not return the sequence but only the final output,\n",
    "# which is use in the next non RNN layer e.g. Dense layer in this case\n",
    "model_2_ext.add(SimpleRNN(32))\n",
    "model_2_ext.add(Dense(1, activation='sigmoid'))\n",
    "model_2_ext.compile(optimizer='rmsprop', loss='binary_crossentropy', metrics=['acc'])\n",
    "model_2_ext.summary()"
   ]
  },
  {
   "cell_type": "markdown",
   "metadata": {},
   "source": [
    "#### Train the ext. model 2"
   ]
  },
  {
   "cell_type": "code",
   "execution_count": 11,
   "metadata": {},
   "outputs": [
    {
     "name": "stderr",
     "output_type": "stream",
     "text": [
      "/home/ravi/code/virtualenvs/deep-learn/lib/python3.6/site-packages/tensorflow_core/python/framework/indexed_slices.py:424: UserWarning: Converting sparse IndexedSlices to a dense Tensor of unknown shape. This may consume a large amount of memory.\n",
      "  \"Converting sparse IndexedSlices to a dense Tensor of unknown shape. \"\n"
     ]
    },
    {
     "name": "stdout",
     "output_type": "stream",
     "text": [
      "Train on 8000 samples, validate on 2000 samples\n",
      "Epoch 1/10\n",
      "8000/8000 [==============================] - 3s 348us/step - loss: 0.3289 - acc: 0.8925 - val_loss: 0.2502 - val_acc: 0.9170\n",
      "Epoch 2/10\n",
      "8000/8000 [==============================] - 2s 250us/step - loss: 0.2080 - acc: 0.9266 - val_loss: 0.2127 - val_acc: 0.9305\n",
      "Epoch 3/10\n",
      "8000/8000 [==============================] - 2s 250us/step - loss: 0.1327 - acc: 0.9546 - val_loss: 0.2322 - val_acc: 0.9260\n",
      "Epoch 4/10\n",
      "8000/8000 [==============================] - 2s 250us/step - loss: 0.0809 - acc: 0.9734 - val_loss: 0.2839 - val_acc: 0.9110\n",
      "Epoch 5/10\n",
      "8000/8000 [==============================] - 2s 253us/step - loss: 0.0428 - acc: 0.9858 - val_loss: 0.3638 - val_acc: 0.8960\n",
      "Epoch 6/10\n",
      "8000/8000 [==============================] - 2s 263us/step - loss: 0.0228 - acc: 0.9921 - val_loss: 0.4055 - val_acc: 0.8980\n",
      "Epoch 7/10\n",
      "8000/8000 [==============================] - 2s 257us/step - loss: 0.0123 - acc: 0.9959 - val_loss: 0.5112 - val_acc: 0.8825\n",
      "Epoch 8/10\n",
      "8000/8000 [==============================] - 2s 257us/step - loss: 0.0055 - acc: 0.9985 - val_loss: 0.5337 - val_acc: 0.9015\n",
      "Epoch 9/10\n",
      "8000/8000 [==============================] - 2s 259us/step - loss: 0.0051 - acc: 0.9984 - val_loss: 0.6197 - val_acc: 0.8895\n",
      "Epoch 10/10\n",
      "8000/8000 [==============================] - 2s 257us/step - loss: 0.0017 - acc: 0.9996 - val_loss: 0.7449 - val_acc: 0.8870\n"
     ]
    }
   ],
   "source": [
    "history_2_ext = model_2_ext.fit(train_seq_pad, training_labels, epochs=10, batch_size=32, validation_split=0.2)"
   ]
  },
  {
   "cell_type": "markdown",
   "metadata": {},
   "source": [
    "#### Test the ext. model 2"
   ]
  },
  {
   "cell_type": "code",
   "execution_count": 12,
   "metadata": {},
   "outputs": [
    {
     "name": "stdout",
     "output_type": "stream",
     "text": [
      "['loss', 'acc']\n",
      "1000/1000 [==============================] - 0s 82us/step\n"
     ]
    },
    {
     "data": {
      "text/plain": [
       "[0.7782186584472657, 0.8790000081062317]"
      ]
     },
     "execution_count": 12,
     "metadata": {},
     "output_type": "execute_result"
    }
   ],
   "source": [
    "print(model_2_ext.metrics_names)\n",
    "model_2_ext.evaluate(x=test_seq_pad, y=testing_labels)"
   ]
  },
  {
   "cell_type": "markdown",
   "metadata": {},
   "source": [
    "### Model 3: Embedding => Bidirectional RNN => Output\n",
    "In this model 3 we will extend the Model 2 by wrapping the RNN layer with a Bidirectional wrapper.\n",
    "\n",
    "#### Define the model 3\n",
    "Extended model 3 is made of 3 layers:\n",
    "\n",
    "- Layer 1 is Embedding layer\n",
    "- Layer 2 is Bidirectional RNN layer (return last output)\n",
    "- Layer 3 is classification (Dense) layer "
   ]
  },
  {
   "cell_type": "code",
   "execution_count": 13,
   "metadata": {},
   "outputs": [
    {
     "name": "stdout",
     "output_type": "stream",
     "text": [
      "Model: \"sequential_4\"\n",
      "_________________________________________________________________\n",
      "Layer (type)                 Output Shape              Param #   \n",
      "=================================================================\n",
      "embedding_4 (Embedding)      (None, 20, 16)            160000    \n",
      "_________________________________________________________________\n",
      "bidirectional_1 (Bidirection (None, 64)                3136      \n",
      "_________________________________________________________________\n",
      "dense_4 (Dense)              (None, 1)                 65        \n",
      "=================================================================\n",
      "Total params: 163,201\n",
      "Trainable params: 163,201\n",
      "Non-trainable params: 0\n",
      "_________________________________________________________________\n"
     ]
    }
   ],
   "source": [
    "from keras.models import Sequential\n",
    "from keras.layers import Dense, Embedding, SimpleRNN\n",
    "from keras.layers.wrappers import Bidirectional\n",
    "\n",
    "# model configurations\n",
    "vocab_size = 10000\n",
    "seq_max_len = 20 # this can be removed as it is not required for next layer which is RNN\n",
    "embedding_dim = 16\n",
    "\n",
    "# model definition\n",
    "model_3 = Sequential()\n",
    "model_3.add(Embedding(vocab_size, embedding_dim, input_length=seq_max_len))\n",
    "# [1] This will create two copies of the hidden layer, \n",
    "# one fit in the input sequences as-is and one on a reversed copy of the input sequence. \n",
    "# By default, the output values from these LSTMs will be concatenated.\n",
    "model_3.add(Bidirectional(SimpleRNN(32)))\n",
    "model_3.add(Dense(1, activation='sigmoid'))\n",
    "model_3.compile(optimizer='rmsprop', loss='binary_crossentropy', metrics=['acc'])\n",
    "model_3.summary()"
   ]
  },
  {
   "cell_type": "markdown",
   "metadata": {},
   "source": [
    "#### Train model 3"
   ]
  },
  {
   "cell_type": "code",
   "execution_count": 14,
   "metadata": {},
   "outputs": [
    {
     "name": "stderr",
     "output_type": "stream",
     "text": [
      "/home/ravi/code/virtualenvs/deep-learn/lib/python3.6/site-packages/tensorflow_core/python/framework/indexed_slices.py:424: UserWarning: Converting sparse IndexedSlices to a dense Tensor of unknown shape. This may consume a large amount of memory.\n",
      "  \"Converting sparse IndexedSlices to a dense Tensor of unknown shape. \"\n"
     ]
    },
    {
     "name": "stdout",
     "output_type": "stream",
     "text": [
      "Train on 8000 samples, validate on 2000 samples\n",
      "Epoch 1/10\n",
      "8000/8000 [==============================] - 2s 229us/step - loss: 0.3031 - acc: 0.8986 - val_loss: 0.2260 - val_acc: 0.9225\n",
      "Epoch 2/10\n",
      "8000/8000 [==============================] - 2s 193us/step - loss: 0.2001 - acc: 0.9320 - val_loss: 0.1998 - val_acc: 0.9360\n",
      "Epoch 3/10\n",
      "8000/8000 [==============================] - 2s 198us/step - loss: 0.1465 - acc: 0.9504 - val_loss: 0.2050 - val_acc: 0.9270\n",
      "Epoch 4/10\n",
      "8000/8000 [==============================] - 2s 189us/step - loss: 0.1048 - acc: 0.9641 - val_loss: 0.2162 - val_acc: 0.9325\n",
      "Epoch 5/10\n",
      "8000/8000 [==============================] - 2s 203us/step - loss: 0.0716 - acc: 0.9759 - val_loss: 0.2518 - val_acc: 0.9160\n",
      "Epoch 6/10\n",
      "8000/8000 [==============================] - 2s 204us/step - loss: 0.0424 - acc: 0.9866 - val_loss: 0.2988 - val_acc: 0.9085\n",
      "Epoch 7/10\n",
      "8000/8000 [==============================] - 2s 200us/step - loss: 0.0271 - acc: 0.9925 - val_loss: 0.2838 - val_acc: 0.9285\n",
      "Epoch 8/10\n",
      "8000/8000 [==============================] - 2s 195us/step - loss: 0.0176 - acc: 0.9949 - val_loss: 0.3168 - val_acc: 0.9115\n",
      "Epoch 9/10\n",
      "8000/8000 [==============================] - 2s 191us/step - loss: 0.0127 - acc: 0.9955 - val_loss: 0.3652 - val_acc: 0.9115\n",
      "Epoch 10/10\n",
      "8000/8000 [==============================] - 2s 199us/step - loss: 0.0065 - acc: 0.9977 - val_loss: 0.4414 - val_acc: 0.8815\n"
     ]
    }
   ],
   "source": [
    "history_3 = model_3.fit(train_seq_pad, training_labels, epochs=10, batch_size=32, validation_split=0.2)"
   ]
  },
  {
   "cell_type": "markdown",
   "metadata": {},
   "source": [
    "#### Testing model 3"
   ]
  },
  {
   "cell_type": "code",
   "execution_count": 15,
   "metadata": {
    "scrolled": true
   },
   "outputs": [
    {
     "name": "stdout",
     "output_type": "stream",
     "text": [
      "['loss', 'acc']\n",
      "1000/1000 [==============================] - 0s 58us/step\n"
     ]
    },
    {
     "data": {
      "text/plain": [
       "[0.4578404839038849, 0.8730000257492065]"
      ]
     },
     "execution_count": 15,
     "metadata": {},
     "output_type": "execute_result"
    }
   ],
   "source": [
    "print(model_3.metrics_names)\n",
    "model_3.evaluate(x=test_seq_pad, y=testing_labels)"
   ]
  },
  {
   "cell_type": "markdown",
   "metadata": {},
   "source": [
    "Similarly like model 2, model 3 can be extended by adding more bidirectional layers in between.  \n",
    "\n",
    "#### Extended model 3\n",
    "Extended model 3 is made of 5 layers:\n",
    "\n",
    "- Layer 1 is Embedding layer\n",
    "- Layer 2 is Bidirectional RNN layer (return full sequence)\n",
    "- Layer 3 is Bidirectional RNN layer (return full sequence)\n",
    "- Layer 4 is Bidirectional RNN layer (return last output)\n",
    "- Layer 5 is classification (Dense) layer \n"
   ]
  },
  {
   "cell_type": "code",
   "execution_count": 16,
   "metadata": {},
   "outputs": [],
   "source": [
    "from keras.models import Sequential\n",
    "from keras.layers import Dense, Embedding, SimpleRNN\n",
    "from keras.layers.wrappers import Bidirectional\n",
    "\n",
    "# model configurations\n",
    "vocab_size = 10000\n",
    "seq_max_len = 20 # this can be removed as it is not required for next layer which is RNN\n",
    "embedding_dim = 16"
   ]
  },
  {
   "cell_type": "code",
   "execution_count": 17,
   "metadata": {},
   "outputs": [
    {
     "name": "stdout",
     "output_type": "stream",
     "text": [
      "Model: \"sequential_5\"\n",
      "_________________________________________________________________\n",
      "Layer (type)                 Output Shape              Param #   \n",
      "=================================================================\n",
      "embedding_5 (Embedding)      (None, 20, 16)            160000    \n",
      "_________________________________________________________________\n",
      "bidirectional_2 (Bidirection (None, 20, 64)            3136      \n",
      "_________________________________________________________________\n",
      "bidirectional_3 (Bidirection (None, 20, 128)           16512     \n",
      "_________________________________________________________________\n",
      "bidirectional_4 (Bidirection (None, 64)                10304     \n",
      "_________________________________________________________________\n",
      "dense_5 (Dense)              (None, 1)                 65        \n",
      "=================================================================\n",
      "Total params: 190,017\n",
      "Trainable params: 190,017\n",
      "Non-trainable params: 0\n",
      "_________________________________________________________________\n"
     ]
    }
   ],
   "source": [
    "# model definition\n",
    "model_3_ext = Sequential()\n",
    "model_3_ext.add(Embedding(vocab_size, embedding_dim, input_length=seq_max_len))\n",
    "model_3_ext.add(Bidirectional(SimpleRNN(32, return_sequences=True)))\n",
    "model_3_ext.add(Bidirectional(SimpleRNN(64, return_sequences=True)))\n",
    "model_3_ext.add(Bidirectional(SimpleRNN(32)))\n",
    "model_3_ext.add(Dense(1, activation='sigmoid'))\n",
    "model_3_ext.compile(optimizer='rmsprop', loss='binary_crossentropy', metrics=['acc'])\n",
    "model_3_ext.summary()"
   ]
  },
  {
   "cell_type": "markdown",
   "metadata": {},
   "source": [
    "#### Train ext. model 3"
   ]
  },
  {
   "cell_type": "code",
   "execution_count": 18,
   "metadata": {},
   "outputs": [
    {
     "name": "stderr",
     "output_type": "stream",
     "text": [
      "/home/ravi/code/virtualenvs/deep-learn/lib/python3.6/site-packages/tensorflow_core/python/framework/indexed_slices.py:424: UserWarning: Converting sparse IndexedSlices to a dense Tensor of unknown shape. This may consume a large amount of memory.\n",
      "  \"Converting sparse IndexedSlices to a dense Tensor of unknown shape. \"\n"
     ]
    },
    {
     "name": "stdout",
     "output_type": "stream",
     "text": [
      "Train on 8000 samples, validate on 2000 samples\n",
      "Epoch 1/10\n",
      "8000/8000 [==============================] - 5s 587us/step - loss: 0.3033 - acc: 0.8999 - val_loss: 0.2239 - val_acc: 0.9260\n",
      "Epoch 2/10\n",
      "8000/8000 [==============================] - 4s 462us/step - loss: 0.1896 - acc: 0.9352 - val_loss: 0.2331 - val_acc: 0.9285\n",
      "Epoch 3/10\n",
      "8000/8000 [==============================] - 3s 424us/step - loss: 0.1191 - acc: 0.9599 - val_loss: 0.2363 - val_acc: 0.9290\n",
      "Epoch 4/10\n",
      "8000/8000 [==============================] - 4s 439us/step - loss: 0.0698 - acc: 0.9768 - val_loss: 0.2847 - val_acc: 0.9250\n",
      "Epoch 5/10\n",
      "8000/8000 [==============================] - 3s 419us/step - loss: 0.0413 - acc: 0.9879 - val_loss: 0.3350 - val_acc: 0.9110\n",
      "Epoch 6/10\n",
      "8000/8000 [==============================] - 3s 416us/step - loss: 0.0236 - acc: 0.9930 - val_loss: 0.3737 - val_acc: 0.9065\n",
      "Epoch 7/10\n",
      "8000/8000 [==============================] - 3s 417us/step - loss: 0.0143 - acc: 0.9954 - val_loss: 0.5692 - val_acc: 0.8740\n",
      "Epoch 8/10\n",
      "8000/8000 [==============================] - 3s 415us/step - loss: 0.0075 - acc: 0.9977 - val_loss: 0.7533 - val_acc: 0.8415\n",
      "Epoch 9/10\n",
      "8000/8000 [==============================] - 3s 417us/step - loss: 0.0056 - acc: 0.9979 - val_loss: 0.8701 - val_acc: 0.8235\n",
      "Epoch 10/10\n",
      "8000/8000 [==============================] - 3s 417us/step - loss: 0.0038 - acc: 0.9991 - val_loss: 0.8578 - val_acc: 0.8605\n"
     ]
    }
   ],
   "source": [
    "history_3_ext = model_3_ext.fit(train_seq_pad, training_labels, epochs=10, batch_size=32, validation_split=0.2)"
   ]
  },
  {
   "cell_type": "markdown",
   "metadata": {},
   "source": [
    "#### Test ext. model 3"
   ]
  },
  {
   "cell_type": "code",
   "execution_count": 19,
   "metadata": {},
   "outputs": [
    {
     "name": "stdout",
     "output_type": "stream",
     "text": [
      "['loss', 'acc']\n",
      "1000/1000 [==============================] - 0s 144us/step\n"
     ]
    },
    {
     "data": {
      "text/plain": [
       "[0.8108287644386292, 0.8569999933242798]"
      ]
     },
     "execution_count": 19,
     "metadata": {},
     "output_type": "execute_result"
    }
   ],
   "source": [
    "print(model_3_ext.metrics_names)\n",
    "model_3_ext.evaluate(x=test_seq_pad, y=testing_labels)"
   ]
  },
  {
   "cell_type": "markdown",
   "metadata": {},
   "source": [
    "### Plotting the above results\n",
    "\n",
    "//ToDo: train the above m\n"
   ]
  },
  {
   "cell_type": "code",
   "execution_count": 20,
   "metadata": {},
   "outputs": [],
   "source": [
    "import matplotlib.pyplot"
   ]
  },
  {
   "cell_type": "markdown",
   "metadata": {},
   "source": [
    "##### Ref.:\n",
    "1. https://machinelearningmastery.com/develop-bidirectional-lstm-sequence-classification-python-keras/\n"
   ]
  }
 ],
 "metadata": {
  "kernelspec": {
   "display_name": "Python 3",
   "language": "python",
   "name": "python3"
  },
  "language_info": {
   "codemirror_mode": {
    "name": "ipython",
    "version": 3
   },
   "file_extension": ".py",
   "mimetype": "text/x-python",
   "name": "python",
   "nbconvert_exporter": "python",
   "pygments_lexer": "ipython3",
   "version": "3.6.6"
  }
 },
 "nbformat": 4,
 "nbformat_minor": 2
}
