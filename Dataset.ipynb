{
 "cells": [
  {
   "cell_type": "markdown",
   "metadata": {},
   "source": [
    "### Datasets\n",
    "\n",
    "##### IMBD Review:\n",
    "URL: http://ai.stanford.edu/~amaas/data/sentiment/\n",
    "\n",
    "Description: Movie reviews for binary sentiment classification. 25k reviews for training, 25k for testing and unlabelled data.\n",
    "\n",
    "##### Kaggle (Toxic Comment Classification Challenge):\n",
    "URL: https://www.kaggle.com/c/jigsaw-toxic-comment-classification-challenge/data\n",
    "\n",
    "Description: Comments in wikipedia changes, for toxicity classification.\n",
    "\n",
    "##### Ubuntu Dialog Corpora: \n",
    "URL: https://github.com/rkadlec/ubuntu-ranking-dataset-creator\n",
    "Paper: https://arxiv.org/abs/1506.08909\n",
    "Description: A dataset containing almost 1 million multi-turn dialogues, with a total of over 7 million utterances and 100 million words.\n",
    "\n",
    "##### Other open source dataset: \n",
    "URLs:\n",
    "* https://machinelearningmastery.com/datasets-natural-language-processing/\n",
    "* https://github.com/karthikncode/nlp-datasets"
   ]
  }
 ],
 "metadata": {
  "kernelspec": {
   "display_name": "Python 3",
   "language": "python",
   "name": "python3"
  },
  "language_info": {
   "codemirror_mode": {
    "name": "ipython",
    "version": 3
   },
   "file_extension": ".py",
   "mimetype": "text/x-python",
   "name": "python",
   "nbconvert_exporter": "python",
   "pygments_lexer": "ipython3",
   "version": "3.6.6"
  }
 },
 "nbformat": 4,
 "nbformat_minor": 2
}
