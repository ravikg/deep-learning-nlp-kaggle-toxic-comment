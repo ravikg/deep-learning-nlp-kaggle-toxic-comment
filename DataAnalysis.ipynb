{
 "cells": [
  {
   "cell_type": "markdown",
   "metadata": {},
   "source": [
    "# Data Analysis\n",
    "\n",
    "This data analysis is for: Toxic Comment Classification Challenge compeition in Kaggle\n",
    "\n",
    "URL : https://www.kaggle.com/c/jigsaw-toxic-comment-classification-challenge\n",
    "\n",
    "Data files required can be downloaded from here: https://www.kaggle.com/c/jigsaw-toxic-comment-classification-challenge/data\n",
    "\n",
    "Download and save the data in ./data/ folder relative to this Jupyter notebook"
   ]
  },
  {
   "cell_type": "markdown",
   "metadata": {},
   "source": [
    "## Numerical Analysis\n",
    "\n",
    "1. Read ./data/train.csv file\n",
    "2. Counts no. of training data per class\n",
    "3. A single comment can belong to multiple class\n"
   ]
  },
  {
   "cell_type": "code",
   "execution_count": 1,
   "metadata": {},
   "outputs": [
    {
     "name": "stdout",
     "output_type": "stream",
     "text": [
      "{'toxic': 15294, 'severe_toxic': 1595, 'obscene': 8449, 'threat': 478, 'insult': 7877, 'identity_hate': 1405, 'non_toxic': 143346}\n",
      "159571\n"
     ]
    }
   ],
   "source": [
    "import csv\n",
    "\n",
    "# labels provided with the data set\n",
    "toxic_labels = ['toxic', 'severe_toxic', 'obscene', 'threat', 'insult', 'identity_hate']\n",
    "\n",
    "# non_toxic is label for comments belonging to none of the toxic_labels\n",
    "labels_count = {'toxic' : 0,\n",
    "                'severe_toxic' : 0,\n",
    "                'obscene' : 0,\n",
    "                'threat' : 0,\n",
    "                'insult' : 0,\n",
    "                'identity_hate' : 0,\n",
    "                'non_toxic' : 0}\n",
    "\n",
    "# read the CSV file\n",
    "with open('./data/train.csv') as train_file:\n",
    "    reader = csv.DictReader(train_file)\n",
    "    total_row = 0\n",
    "    for row in reader:\n",
    "        total_row += 1\n",
    "        is_none = True\n",
    "        for label in toxic_labels:\n",
    "            if(row[label] == '1'):\n",
    "                labels_count[label] += 1\n",
    "                is_none = False\n",
    "        if(is_none):\n",
    "            labels_count['non_toxic'] += 1\n",
    "    print(labels_count)\n",
    "    print(total_row)"
   ]
  },
  {
   "cell_type": "code",
   "execution_count": 26,
   "metadata": {},
   "outputs": [
    {
     "data": {
      "image/png": "[encoded data removed]",
      "text/plain": [
       "<Figure size 432x288 with 1 Axes>"
      ]
     },
     "metadata": {},
     "output_type": "display_data"
    }
   ],
   "source": [
    "import matplotlib.pyplot as plt\n",
    "\n",
    "plt.xticks(rotation=90)\n",
    "plt.bar(labels_count.keys(), labels_count.values(), 1/1.5, color='b')\n",
    "plt.show()"
   ]
  },
  {
   "cell_type": "markdown",
   "metadata": {},
   "source": [
    "### Observations:\n",
    "From above analysis we see that:\n",
    "1. Total no. of data (training & validation) = 159,571\n",
    "2. Total non-toxic comments = 143,346 (~ 89.83%)\n",
    "3. Rest 10.17% of commets has one of the toxic label\n",
    "4. Some of labels like threat, identity_hate, severe_toxic has very less samples compared to other labels\n",
    "\n",
    "So this is imbalanced dataset as we can observe that data per class is highly imbalanced"
   ]
  },
  {
   "cell_type": "markdown",
   "metadata": {},
   "source": [
    "## Language feature analysis\n",
    "\n",
    "1. Understanding token (split comments into group of words) based features\n",
    "2. Tokens histogram"
   ]
  },
  {
   "cell_type": "code",
   "execution_count": 3,
   "metadata": {},
   "outputs": [
    {
     "name": "stdout",
     "output_type": "stream",
     "text": [
      "159571\n",
      "159571\n"
     ]
    }
   ],
   "source": [
    "texts = []\n",
    "labels = []\n",
    "toxic_labels = ['toxic', 'severe_toxic', 'obscene', 'threat', 'insult', 'identity_hate']\n",
    "toxic_labels_id_map = {\n",
    "    'non_toxic' : 0,\n",
    "    'toxic' : 1,\n",
    "    'severe_toxic' : 2,\n",
    "    'obscene' : 3,\n",
    "    'threat' : 4,\n",
    "    'insult' : 5,\n",
    "    'identity_hate' : 6\n",
    "    }\n",
    "\n",
    "num_rows_texts = 0\n",
    "num_rows_labels = 0\n",
    "with open('./data/train.csv') as train_file:\n",
    "    reader = csv.DictReader(train_file)\n",
    "    for row in reader:\n",
    "        prev_row_count = num_rows_labels\n",
    "        num_rows_texts += 1\n",
    "        texts.append(row['comment_text'])\n",
    "        is_none = True\n",
    "        # check for labels other than toxic (1st label)\n",
    "        for label in toxic_labels[1:]:\n",
    "            if(row[label] == '1'):\n",
    "                num_rows_labels += 1\n",
    "                labels.append(toxic_labels_id_map[label])\n",
    "                is_none = False\n",
    "                break # a comments can have multiple labels but for now just take the 1st label <-- need to fix it\n",
    "        if(is_none):\n",
    "            num_rows_labels += 1\n",
    "            # finally check if it is toxic or non-toxic\n",
    "            if(row['toxic'] == '1'):\n",
    "                labels.append(toxic_labels_id_map['toxic'])\n",
    "            else:\n",
    "                labels.append(toxic_labels_id_map['non_toxic'])\n",
    "        if((num_rows_texts - num_rows_labels) < 0):\n",
    "            print(row)\n",
    "            break;\n",
    "\n",
    "print(num_rows_texts)\n",
    "print(num_rows_labels)"
   ]
  },
  {
   "cell_type": "code",
   "execution_count": 4,
   "metadata": {},
   "outputs": [
    {
     "name": "stdout",
     "output_type": "stream",
     "text": [
      "labels size: 159571\n"
     ]
    },
    {
     "data": {
      "text/plain": [
       "[0, 0, 0, 0, 0, 2, 0, 0, 0]"
      ]
     },
     "execution_count": 4,
     "metadata": {},
     "output_type": "execute_result"
    }
   ],
   "source": [
    "print('labels size:', len(labels))\n",
    "labels[1:10]"
   ]
  },
  {
   "cell_type": "markdown",
   "metadata": {},
   "source": [
    "# Tokenizing the data\n",
    "\n",
    "Splitting the comments in to tokens, later used to create word vectors"
   ]
  },
  {
   "cell_type": "code",
   "execution_count": 5,
   "metadata": {},
   "outputs": [
    {
     "name": "stderr",
     "output_type": "stream",
     "text": [
      "Using TensorFlow backend.\n"
     ]
    },
    {
     "name": "stdout",
     "output_type": "stream",
     "text": [
      "Found 210337 unique tokens.\n"
     ]
    }
   ],
   "source": [
    "from keras.preprocessing.text import Tokenizer\n",
    "\n",
    "max_words = 10000 # consider only the tops 10,000 words in dataset\n",
    "\n",
    "tokenizer = Tokenizer(num_words=max_words)\n",
    "tokenizer.fit_on_texts(texts)\n",
    "sequences = tokenizer.texts_to_sequences(texts)\n",
    "\n",
    "word_index = tokenizer.word_index\n",
    "print('Found %s unique tokens.' % len(word_index))\n"
   ]
  },
  {
   "cell_type": "markdown",
   "metadata": {},
   "source": [
    "### Get histogram"
   ]
  },
  {
   "cell_type": "code",
   "execution_count": 6,
   "metadata": {},
   "outputs": [
    {
     "data": {
      "image/png": "[encoded data removed]",
      "text/plain": [
       "<Figure size 432x288 with 1 Axes>"
      ]
     },
     "metadata": {},
     "output_type": "display_data"
    }
   ],
   "source": [
    "import numpy as np\n",
    "#print(tokenizer.document_count)\n",
    "# list of counts of words from map of word to its count\n",
    "word_counts = list(tokenizer.word_counts.values())\n",
    "#convert it to np array\n",
    "word_counts_np = np.asarray(word_counts)\n",
    "# create bin for histogram \n",
    "bins = np.arange(0, 300000, 100) # fixed bin size\n",
    "#create history\n",
    "plt.hist(word_counts_np, 100)\n",
    "plt.show()"
   ]
  },
  {
   "cell_type": "code",
   "execution_count": 7,
   "metadata": {},
   "outputs": [],
   "source": [
    "wc_np_s =  np.sort(word_counts_np)[::-1]"
   ]
  },
  {
   "cell_type": "code",
   "execution_count": 8,
   "metadata": {},
   "outputs": [
    {
     "name": "stdout",
     "output_type": "stream",
     "text": [
      "[297448 225041 224192 215749 206080 204397 176435 154532 145579 130323\n",
      " 102949  97586  93754  89968  83463  77416  72225  72028  63365  59605\n",
      "  58592  56039  54567  53405  51083  46268  45837  45619  44879  41511\n",
      "  41435  40067  39545  37271  37203  36579  36420  34093  34073  31972\n",
      "  31572  30715  30464  29780  29290  29244  28804  27994  27806  27318\n",
      "  26811  25346  25126  24982  23700  23443  23238  22917  22586  22339\n",
      "  21904  21596  21562  20624  20451  20071  19166  19108  18758  18261\n",
      "  18242  17875  17873  17818  17723  17561  17545  17286  16750  16688\n",
      "  16602  16205  15828  15606  15421  14936  14883  14732  14479  14327\n",
      "  14310  13929  13898  13443  13389  12992  12777  12524  12426]\n"
     ]
    }
   ],
   "source": [
    "print(wc_np_s[1:100])"
   ]
  }
 ],
 "metadata": {
  "kernelspec": {
   "display_name": "Python 3",
   "language": "python",
   "name": "python3"
  },
  "language_info": {
   "codemirror_mode": {
    "name": "ipython",
    "version": 3
   },
   "file_extension": ".py",
   "mimetype": "text/x-python",
   "name": "python",
   "nbconvert_exporter": "python",
   "pygments_lexer": "ipython3",
   "version": "3.6.6"
  }
 },
 "nbformat": 4,
 "nbformat_minor": 2
}
